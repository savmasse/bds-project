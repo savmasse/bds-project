{
 "cells": [
  {
   "cell_type": "markdown",
   "metadata": {},
   "source": [
    "# ====================================================\n",
    "# ======== Big Data Science: Project demo (May 2020) ========\n",
    "# ====================================================\n",
    "## Study of COVID-19 denialism through twitter activity\n",
    "### Project group 26:  Wannes Van Leemput, Sam Vanmassenhove\n",
    "\n",
    "In this project we study the phenomenon of \"COVID-denialism\", meaning people who, despite all evidence to the contrary, refuse to acknowledge the coronavirus as a serious threat to society, often referring to it as a \"hoax\". \n",
    "\n",
    "We searched corona-related tweets for signs of denialism and created a labelled training set based on the hashtags used by such denialists. The training data was then used to train a classification model in order to predict whether a certain tweet was a case of COVID denial or a regular tweet on the subject of coronavirus."
   ]
  },
  {
   "cell_type": "code",
   "execution_count": 1,
   "metadata": {},
   "outputs": [],
   "source": [
    "# Import libraries\n",
    "from pyspark import SparkContext, SparkConf\n",
    "from pyspark.sql import SparkSession, Row\n",
    "import pandas as pd\n",
    "import numpy as np\n",
    "import string\n",
    "import nltk\n",
    "from nltk.corpus import stopwords\n",
    "import re\n",
    "\n",
    "# Import our own code\n",
    "from Authentication import Authentication\n",
    "from DataMiner import DataMiner\n",
    "from PreProcessTweets import PreProcessTweets\n",
    "from TweetDataIO import TweetDataIO\n",
    "from DenialPredictor import DenialPredictor\n",
    "from datastream_test import MyStreamListener\n",
    "\n",
    "# Create a set of English stopwords\n",
    "sw = set(stopwords.words(\"english\")) \n",
    "\n",
    "# Initiate spark\n",
    "sc = SparkContext('local[*]')\n",
    "spark = SparkSession.builder.getOrCreate()\n",
    "\n",
    "# Get twitter api authentication\n",
    "api = Authentication().get_api()"
   ]
  },
  {
   "cell_type": "markdown",
   "metadata": {},
   "source": [
    "## 1. Classification of denialist tweets\n",
    "### 1.1 Demonstration of tweet searching and IO\n",
    "\n",
    "We use the Tweepy library to search tweets. We focus on English language tweets as these are most common and more geopgraphically diverse.\n",
    "\n",
    "Note that the training set should already exist as a saved CSV-file when running this \"application\" in production. The following code is only for the purpose of demonstrating the IO functionality."
   ]
  },
  {
   "cell_type": "code",
   "execution_count": 2,
   "metadata": {
    "scrolled": true
   },
   "outputs": [
    {
     "name": "stdout",
     "output_type": "stream",
     "text": [
      "Processing tag: #BillGatesIsEvil\n",
      "Processing tag: #coronaHoax\n",
      "Processing tag: #FilmYourHospital\n",
      "Processing tag: #scamdemic\n",
      "Processing tag: #Plandemic2020\n",
      "Processing tag: #POTUS\n",
      "Processing tag: #QAnon\n",
      "Processing tag: #ResistTheNewWorldOrder\n",
      "Processing tag: #BillGates\n",
      "Processing tag: #CORONAHOAX\n",
      "Processing tag: #plandemic\n",
      "Processing tag: #Coronabollocks\n",
      "Processing tag: #sos\n",
      "Processing tag: #WWG1WGA\n",
      "Processing tag: #coronabollocks\n",
      "Processing tag: #Scamdemic\n",
      "Processing tag: #NWO\n",
      "Processing tag: #CovidHoax\n",
      "Processing tag: #q\n",
      "Processing tag: #woke\n",
      "Processing tag: #thegreatawakening\n",
      "Processing tag: #DrainTheSwamp\n",
      "Processing tag: #Coronahoax\n",
      "Processing tag: #BillGatesBioTerrorist\n",
      "Processing tag: #endthelockdown\n",
      "Processing tag: #FakePandemic\n",
      "Processing tag: #ObamaGate\n",
      "Processing tag: #Plandemic\n",
      "Processing tag: #coronahoax\n",
      "Processing tag: #CoronaHoax\n"
     ]
    }
   ],
   "source": [
    "# Mine some denial tweets (no specific location)\n",
    "tagignore = [\"#Covid_19\", \"#coronavirus\", \"#COVIDー19\", \"#COVID19\", \"#coronavirusNYC\", \"#coronavirusoregon\", \n",
    "             \"#lockdown\", \"#covid19\", \"#COVID\", \"#pandemic\", \"#Corona\", \"#Covid19\", \"#CoronaVirus\"]\n",
    "miner = DataMiner(api, \"#CoronaHoax\", \"\", \"en\", tagignore=tagignore, num_tweets=10)\n",
    "denial_tweets = miner.mine()"
   ]
  },
  {
   "cell_type": "code",
   "execution_count": 3,
   "metadata": {},
   "outputs": [
    {
     "name": "stdout",
     "output_type": "stream",
     "text": [
      "Processing tag: #Covid_19\n",
      "Processing tag: #covid19\n",
      "Processing tag: #Coronavirus\n",
      "Processing tag: #COVID19\n",
      "Processing tag: #coronavirus\n"
     ]
    }
   ],
   "source": [
    "# Mine some control tweets (no specific location)\n",
    "tagignore = [\"#CoronaHoax\", \"#covidhoax\",\"#coronahoax\", \"#covidhoax\", \"#Plandemic\"]\n",
    "miner = DataMiner(api, \"coronavirus\", \"\", \"en\", tagignore=tagignore, num_tweets=10)\n",
    "control_tweets = miner.mine()"
   ]
  },
  {
   "cell_type": "code",
   "execution_count": 4,
   "metadata": {
    "scrolled": true
   },
   "outputs": [],
   "source": [
    "# Write the tweets to a CSV file\n",
    "filename = \"./training_data.txt\"\n",
    "io = TweetDataIO(filename, spark=spark, context=sc)\n",
    "io.write(denial_tweets, label=0, append=False)\n",
    "io.write(control_tweets, label=1, append=True)"
   ]
  },
  {
   "cell_type": "code",
   "execution_count": 5,
   "metadata": {},
   "outputs": [
    {
     "name": "stdout",
     "output_type": "stream",
     "text": [
      "+-----+--------------------+--------------------+--------------------+-------------------+-------------------+---------------+\n",
      "|label|            location|                tags|                text|               time|           tweet_id|           user|\n",
      "+-----+--------------------+--------------------+--------------------+-------------------+-------------------+---------------+\n",
      "|    0|                    |    #BillGatesIsEvil|@shreena74052483 ...|2020-05-20 17:46:22|1263164173644468224| OppressedHindu|\n",
      "|    0|                    |#ChineseVirus|#Ch...|@ChristieGrunwa1 ...|2020-05-20 17:34:58|1263161305306890244|       rcoiteux|\n",
      "|    0|       New York, USA|him....#BillGates...|@EM_KA_17 This is...|2020-05-20 17:30:01|1263160060160749570|alexandrejakins|\n",
      "|    0|      Leeds, England|#podcasts|#podcas...|Look out, everyon...|2020-05-20 17:21:22|1263157882536833029|  ChamberElders|\n",
      "|    0|                    |#FDA|#BillGatesIs...|This is necessary...|2020-05-20 17:20:16|1263157606111199232|    Dijzeltweet|\n",
      "|    0|Living rent free ...|#Quarantine|#Bill...|Isnt that COVID n...|2020-05-20 17:13:22|1263155869329440769|     0Talkhard2|\n",
      "|    0|        In Your Mind|#plandemic|#Fauci...|@BillGates Wrong....|2020-05-20 17:12:10|1263155568430051329|    cafe_health|\n",
      "|    0|     Alberta, Canada|#WWG1WGA|#QAnons|...|This is an intere...|2020-05-20 17:09:33|1263154908829646848|    ABPolitical|\n",
      "|    0|Vancouver, Britis...|#EndWHO|#FireFauc...|Madagascar Refuse...|2020-05-20 17:08:01|1263154526082568192|  OffshoreMaven|\n",
      "|    0|   Fairfax, Virginia|#BillGatesIsEvil|...|This really is MU...|2020-05-20 16:59:15|1263152317098004480|  readthebooks2|\n",
      "+-----+--------------------+--------------------+--------------------+-------------------+-------------------+---------------+\n",
      "only showing top 10 rows\n",
      "\n"
     ]
    }
   ],
   "source": [
    "# Read same file and show\n",
    "ddf = io.read()\n",
    "ddf.show(n=10)"
   ]
  },
  {
   "cell_type": "code",
   "execution_count": 6,
   "metadata": {},
   "outputs": [
    {
     "name": "stdout",
     "output_type": "stream",
     "text": [
      "+-----+--------------------+--------------------+--------------------+-------------------+-------------------+---------------+\n",
      "|label|            location|                tags|                text|               time|           tweet_id|           user|\n",
      "+-----+--------------------+--------------------+--------------------+-------------------+-------------------+---------------+\n",
      "|    0|                    |          #CovidHoax|@AmandaLeeHouse ....|2020-05-20 17:29:55|1263160036676841473|         LHCBCS|\n",
      "|    0|                    |              #POTUS|@realDonaldTrump ...|2020-05-20 17:56:08|1263166634887385088|AngelaJ45547503|\n",
      "|    0|    Aichi-ken, Japan|#vote|#StillIVote...|Although not all ...|2020-05-20 09:56:19|1263045881864974336|     TheMusicks|\n",
      "|    0|                    |                  #Q|@BaldEagle1964 @L...|2020-05-20 18:00:04|1263167622776004608|       GRANNYQ9|\n",
      "|    0|       San Diego, CA|       #woke|#resist|The thing that ma...|2020-05-20 17:55:23|1263166444579115009|BravoKiloActual|\n",
      "|    0|                    |                #sos|What is a interes...|2020-05-20 17:49:57|1263165078309756928|   daniellexxxo|\n",
      "|    0|❤️ is in भारत मात...|#BillGatesBioTerr...|@USlasher @drhars...|2020-05-20 17:36:02|1263161573071376394|   Padmaavathee|\n",
      "|    0|        Florida, USA|          #obamagate|@realDonaldTrump ...|2020-05-20 18:04:32|1263168745708687365|   ShadowCoyote|\n",
      "|    0|                    |#BillGatesBioTerr...|What are the chan...|2020-05-20 17:14:35|1263156176910417923|     TeriDuToit|\n",
      "|    0|   Union Springs, NY|#Chinavirus|#Plan...|#Chinavirus #Plan...|2020-05-20 18:04:27|1263168726200913921|Richard04310134|\n",
      "+-----+--------------------+--------------------+--------------------+-------------------+-------------------+---------------+\n",
      "only showing top 10 rows\n",
      "\n"
     ]
    }
   ],
   "source": [
    "# Remove duplicates \n",
    "ddf = ddf.orderBy(\"label\").dropDuplicates([\"tweet_id\"])\n",
    "ddf.show(n=10)"
   ]
  },
  {
   "cell_type": "markdown",
   "metadata": {},
   "source": [
    "### 1.2 Perform preprocessing steps on the tweets to prepare for classification model"
   ]
  },
  {
   "cell_type": "code",
   "execution_count": 7,
   "metadata": {},
   "outputs": [
    {
     "name": "stdout",
     "output_type": "stream",
     "text": [
      "Preprocessing...\n",
      ">> Removing stopwords...\n",
      ">> Removing urls...\n",
      ">> Removing hashtags...\n",
      ">> Removing user mentions...\n",
      ">> Removing punctuation...\n",
      ">> Removing whitespace...\n",
      "Finished preprocessing!\n"
     ]
    }
   ],
   "source": [
    "p = PreProcessTweets(ddf, \n",
    "                     remove_tags=True, \n",
    "                     remove_mentions=True, \n",
    "                     remove_punctuation=True, \n",
    "                     remove_urls=True, \n",
    "                     remove_stopwords=True)\n",
    "ddf = p.preprocess()"
   ]
  },
  {
   "cell_type": "code",
   "execution_count": 8,
   "metadata": {},
   "outputs": [
    {
     "data": {
      "text/html": [
       "<div>\n",
       "<style scoped>\n",
       "    .dataframe tbody tr th:only-of-type {\n",
       "        vertical-align: middle;\n",
       "    }\n",
       "\n",
       "    .dataframe tbody tr th {\n",
       "        vertical-align: top;\n",
       "    }\n",
       "\n",
       "    .dataframe thead th {\n",
       "        text-align: right;\n",
       "    }\n",
       "</style>\n",
       "<table border=\"1\" class=\"dataframe\">\n",
       "  <thead>\n",
       "    <tr style=\"text-align: right;\">\n",
       "      <th></th>\n",
       "      <th>label</th>\n",
       "      <th>location</th>\n",
       "      <th>tags</th>\n",
       "      <th>text</th>\n",
       "      <th>time</th>\n",
       "      <th>tweet_id</th>\n",
       "      <th>user</th>\n",
       "      <th>processed_text</th>\n",
       "    </tr>\n",
       "  </thead>\n",
       "  <tbody>\n",
       "    <tr>\n",
       "      <th>0</th>\n",
       "      <td>0</td>\n",
       "      <td></td>\n",
       "      <td>#CovidHoax</td>\n",
       "      <td>@AmandaLeeHouse ... the way we live. We carrie...</td>\n",
       "      <td>2020-05-20 17:29:55</td>\n",
       "      <td>1263160036676841473</td>\n",
       "      <td>LHCBCS</td>\n",
       "      <td>way live We carried normal During Only 1 indiv...</td>\n",
       "    </tr>\n",
       "    <tr>\n",
       "      <th>1</th>\n",
       "      <td>0</td>\n",
       "      <td></td>\n",
       "      <td>#POTUS</td>\n",
       "      <td>@realDonaldTrump @RussVought45 @USTreasury And...</td>\n",
       "      <td>2020-05-20 17:56:08</td>\n",
       "      <td>1263166634887385088</td>\n",
       "      <td>AngelaJ45547503</td>\n",
       "      <td>And neither you You really know hell talking t...</td>\n",
       "    </tr>\n",
       "    <tr>\n",
       "      <th>2</th>\n",
       "      <td>0</td>\n",
       "      <td>Aichi-ken, Japan</td>\n",
       "      <td>#vote|#StillIVote|#ResistTheNewWorldOrder|#Rev...</td>\n",
       "      <td>Although not all of problems can be solved wit...</td>\n",
       "      <td>2020-05-20 09:56:19</td>\n",
       "      <td>1263045881864974336</td>\n",
       "      <td>TheMusicks</td>\n",
       "      <td>Although problems solved Representation matter...</td>\n",
       "    </tr>\n",
       "    <tr>\n",
       "      <th>3</th>\n",
       "      <td>0</td>\n",
       "      <td></td>\n",
       "      <td>#Q</td>\n",
       "      <td>@BaldEagle1964 @LisaMei62 @USPATRIQT41020 I wa...</td>\n",
       "      <td>2020-05-20 18:00:04</td>\n",
       "      <td>1263167622776004608</td>\n",
       "      <td>GRANNYQ9</td>\n",
       "      <td>I thinking thing I watched Tucker Hannity Laur...</td>\n",
       "    </tr>\n",
       "    <tr>\n",
       "      <th>4</th>\n",
       "      <td>0</td>\n",
       "      <td>San Diego, CA</td>\n",
       "      <td>#woke|#resist</td>\n",
       "      <td>The thing that makes twitter great is the abil...</td>\n",
       "      <td>2020-05-20 17:55:23</td>\n",
       "      <td>1263166444579115009</td>\n",
       "      <td>BravoKiloActual</td>\n",
       "      <td>The thing makes twitter great ability respond ...</td>\n",
       "    </tr>\n",
       "  </tbody>\n",
       "</table>\n",
       "</div>"
      ],
      "text/plain": [
       "   label          location                                               tags  \\\n",
       "0      0                                                           #CovidHoax   \n",
       "1      0                                                               #POTUS   \n",
       "2      0  Aichi-ken, Japan  #vote|#StillIVote|#ResistTheNewWorldOrder|#Rev...   \n",
       "3      0                                                                   #Q   \n",
       "4      0     San Diego, CA                                      #woke|#resist   \n",
       "\n",
       "                                                text                 time  \\\n",
       "0  @AmandaLeeHouse ... the way we live. We carrie...  2020-05-20 17:29:55   \n",
       "1  @realDonaldTrump @RussVought45 @USTreasury And...  2020-05-20 17:56:08   \n",
       "2  Although not all of problems can be solved wit...  2020-05-20 09:56:19   \n",
       "3  @BaldEagle1964 @LisaMei62 @USPATRIQT41020 I wa...  2020-05-20 18:00:04   \n",
       "4  The thing that makes twitter great is the abil...  2020-05-20 17:55:23   \n",
       "\n",
       "              tweet_id             user  \\\n",
       "0  1263160036676841473           LHCBCS   \n",
       "1  1263166634887385088  AngelaJ45547503   \n",
       "2  1263045881864974336       TheMusicks   \n",
       "3  1263167622776004608         GRANNYQ9   \n",
       "4  1263166444579115009  BravoKiloActual   \n",
       "\n",
       "                                      processed_text  \n",
       "0  way live We carried normal During Only 1 indiv...  \n",
       "1  And neither you You really know hell talking t...  \n",
       "2  Although problems solved Representation matter...  \n",
       "3  I thinking thing I watched Tucker Hannity Laur...  \n",
       "4  The thing makes twitter great ability respond ...  "
      ]
     },
     "execution_count": 8,
     "metadata": {},
     "output_type": "execute_result"
    }
   ],
   "source": [
    "# Convert to pandas and have a look at the new data\n",
    "df = ddf.toPandas()\n",
    "df.head()"
   ]
  },
  {
   "cell_type": "markdown",
   "metadata": {},
   "source": [
    "### 1.3 Training and evaluation of classification model\n",
    "#### 1.3.1 First try on the original unedited text"
   ]
  },
  {
   "cell_type": "code",
   "execution_count": 9,
   "metadata": {},
   "outputs": [
    {
     "name": "stdout",
     "output_type": "stream",
     "text": [
      "Training set performance : \n",
      "Accuracy: 0.884,\n",
      "Precision: 0.000, \n",
      "Recall: 0.000,\n",
      "F1: 0.000\n",
      "Test set performance : \n",
      "Accuracy: 0.867,\n",
      "Precision: 0.000, \n",
      "Recall: 0.000,\n",
      "F1: 0.000\n"
     ]
    },
    {
     "name": "stderr",
     "output_type": "stream",
     "text": [
      "C:\\Users\\SamVa\\AppData\\Local\\Continuum\\anaconda3\\envs\\bds\\lib\\site-packages\\sklearn\\metrics\\_classification.py:1272: UndefinedMetricWarning: Precision is ill-defined and being set to 0.0 due to no predicted samples. Use `zero_division` parameter to control this behavior.\n",
      "  _warn_prf(average, modifier, msg_start, len(result))\n",
      "C:\\Users\\SamVa\\AppData\\Local\\Continuum\\anaconda3\\envs\\bds\\lib\\site-packages\\sklearn\\metrics\\_classification.py:1272: UndefinedMetricWarning: Precision is ill-defined and being set to 0.0 due to no predicted samples. Use `zero_division` parameter to control this behavior.\n",
      "  _warn_prf(average, modifier, msg_start, len(result))\n"
     ]
    }
   ],
   "source": [
    "# Split data (corpus and labels) into train and test sets\n",
    "predictor = DenialPredictor(corpus=df.processed_text, labels=df.label, clf=\"nb\")\n",
    "X_train, X_test, y_train, y_test = predictor.train_test_split(split=0.3)\n",
    "\n",
    "# Fit the model\n",
    "predictor.fit_model(X_train, y_train)\n",
    "\n",
    "# Calculate some metrics to evaluate performance\n",
    "print(\"Training set performance : \")\n",
    "predictor.calc_metrics(X_train, y_train)\n",
    "print(\"Test set performance : \")\n",
    "predictor.calc_metrics(X_test, y_test)"
   ]
  },
  {
   "cell_type": "markdown",
   "metadata": {},
   "source": [
    "#### 1.3.2 Now do the same but without preprocessing"
   ]
  },
  {
   "cell_type": "code",
   "execution_count": 10,
   "metadata": {
    "scrolled": true
   },
   "outputs": [
    {
     "name": "stdout",
     "output_type": "stream",
     "text": [
      "Preprocessing...\n",
      ">> Removing stopwords...\n",
      ">> Removing hashtags...\n",
      ">> Removing whitespace...\n",
      "Finished preprocessing!\n",
      "\n",
      "\n",
      "Training set performance : \n",
      "Accuracy: 0.884,\n",
      "Precision: 0.000, \n",
      "Recall: 0.000,\n",
      "F1: 0.000\n",
      "Test set performance : \n",
      "Accuracy: 0.867,\n",
      "Precision: 0.000, \n",
      "Recall: 0.000,\n",
      "F1: 0.000\n"
     ]
    },
    {
     "name": "stderr",
     "output_type": "stream",
     "text": [
      "C:\\Users\\SamVa\\AppData\\Local\\Continuum\\anaconda3\\envs\\bds\\lib\\site-packages\\sklearn\\metrics\\_classification.py:1272: UndefinedMetricWarning: Precision is ill-defined and being set to 0.0 due to no predicted samples. Use `zero_division` parameter to control this behavior.\n",
      "  _warn_prf(average, modifier, msg_start, len(result))\n",
      "C:\\Users\\SamVa\\AppData\\Local\\Continuum\\anaconda3\\envs\\bds\\lib\\site-packages\\sklearn\\metrics\\_classification.py:1272: UndefinedMetricWarning: Precision is ill-defined and being set to 0.0 due to no predicted samples. Use `zero_division` parameter to control this behavior.\n",
      "  _warn_prf(average, modifier, msg_start, len(result))\n"
     ]
    }
   ],
   "source": [
    "p = PreProcessTweets(ddf, \n",
    "                     remove_tags=True, \n",
    "                     remove_mentions=False, \n",
    "                     remove_punctuation=False, \n",
    "                     remove_urls=False, \n",
    "                     remove_stopwords=True)\n",
    "ddf = p.preprocess()\n",
    "df = ddf.toPandas()\n",
    "print(\"\\n\")\n",
    "\n",
    "# Split data (corpus and labels) into train and test sets\n",
    "predictor = DenialPredictor(df.processed_text, df.label)\n",
    "X_train, X_test, y_train, y_test = predictor.train_test_split(split=0.3)\n",
    "\n",
    "# Fit the model\n",
    "predictor.fit_model(X_train, y_train)\n",
    "\n",
    "# Calculate some metrics to evaluate performance\n",
    "print(\"Training set performance : \")\n",
    "predictor.calc_metrics(X_train, y_train)\n",
    "print(\"Test set performance : \")\n",
    "predictor.calc_metrics(X_test, y_test)"
   ]
  },
  {
   "cell_type": "markdown",
   "metadata": {},
   "source": [
    "#### 1.3.3 The same again but this time with a different classifier: Support Vector Machines (SVM)"
   ]
  },
  {
   "cell_type": "code",
   "execution_count": 11,
   "metadata": {},
   "outputs": [
    {
     "name": "stdout",
     "output_type": "stream",
     "text": [
      "Training set performance : \n",
      "Accuracy: 1.000,\n",
      "Precision: 1.000, \n",
      "Recall: 1.000,\n",
      "F1: 1.000\n",
      "Test set performance : \n",
      "Accuracy: 0.867,\n",
      "Precision: 0.000, \n",
      "Recall: 0.000,\n",
      "F1: 0.000\n"
     ]
    },
    {
     "name": "stderr",
     "output_type": "stream",
     "text": [
      "C:\\Users\\SamVa\\AppData\\Local\\Continuum\\anaconda3\\envs\\bds\\lib\\site-packages\\sklearn\\metrics\\_classification.py:1272: UndefinedMetricWarning: Precision is ill-defined and being set to 0.0 due to no predicted samples. Use `zero_division` parameter to control this behavior.\n",
      "  _warn_prf(average, modifier, msg_start, len(result))\n"
     ]
    }
   ],
   "source": [
    "# Split data (corpus and labels) into train and test sets\n",
    "svm_predictor = DenialPredictor(df.processed_text, df.label, clf=\"svm\")\n",
    "X_train, X_test, y_train, y_test = predictor.train_test_split(split=0.3)\n",
    "\n",
    "# Fit the model\n",
    "svm_predictor.fit_model(X_train, y_train)\n",
    "\n",
    "# Calculate some metrics to evaluate performance\n",
    "print(\"Training set performance : \")\n",
    "svm_predictor.calc_metrics(X_train, y_train)\n",
    "print(\"Test set performance : \")\n",
    "svm_predictor.calc_metrics(X_test, y_test)"
   ]
  },
  {
   "cell_type": "markdown",
   "metadata": {},
   "source": [
    "## 2. Live tweet streaming and prediction"
   ]
  },
  {
   "cell_type": "code",
   "execution_count": 12,
   "metadata": {},
   "outputs": [],
   "source": [
    "from LivePredictionStream import LivePredictionStream\n",
    "import tweepy"
   ]
  },
  {
   "cell_type": "code",
   "execution_count": 13,
   "metadata": {},
   "outputs": [
    {
     "name": "stdout",
     "output_type": "stream",
     "text": [
      "Start streaming...\n",
      "(1) denial (0.95): 🤦‍♀️ Does he call the deaths a badge of honor too Stupid fcker Trump calls high number of coronavirus cases in the US a badge of honor attributes it to testing\n",
      "(2) denial (0.93): And all DDS were like What mass killing So like all 75 billion people\n",
      "(3) denial (0.93): Counties are on the front lines of the COVID19 crisis working every day to keep our communities healthy and safe For more on the county role and for the latest resources visit CountiesMatter\n",
      "(4) denial (0.92): chicagotribune More and more sheriffs are saying the hell w Pritzker his tyrannical orders Including DuPage Countys Pretty soon the only county adhering to his unconstitutional lockdown will be crook county coronavirus COVID\n",
      "(5) denial (0.88): Curb your enthusiasm season 11\n",
      "(6) denial (0.94): So proud to be mentioned alongside Carolyn Olson who is using her artwork to pay tribune to COVID19 workers Read about it in this PBS NewsHour write up\n",
      "(7) denial (0.88): • Ooop Blue Bell\n",
      "(8) denial (0.96): Sure it wasn’t you\n",
      "(9) denial (0.94): Florida’s COVID19 death toll topped 2000 Tuesday underscoring the serious threat posed by the coronavirus and the potential consequences of not giving people accurate information on the risks involved\n",
      "(10) denial (0.96): Canadian police have checked 22k homes it is to make sure people are following the selfisolation order when they arrive in Canada Anyone who arrives in Canada must selfisolate for 14days People who break the rule will be fined or charged amp can face jail time coronavirus\n",
      "(11) denial (0.95): kerpen And this\n",
      "(12) denial (0.93): Can SEC football start if Bama aint ready They would if Ole Miss wasnt ready\n",
      "(13) denial (0.93): sturdyAlex betsyella30 Greece got loans from other countries The least they could do is spread Coronavirus through the country in return So ungrateful\n",
      "(14) denial (0.95): carlosjordy The coronavirus has caused a lockdown in the country and the work is over and my wife and children are not getting food Help us Bank Name Meezan Bank Limited IBAN PK65MEZN0002770103420943 swift code MEZNPKKA\n",
      "(15) denial (0.95): Check out the campaign of LindseyBoylan an up and coming progressive candidate\n",
      "(16) denial (0.91): FoxBusiness Fed FOMC minutes show fears of ‘extraordinary amount of uncertainty and considerable risks’ because of coronavirus\n",
      "(17) denial (0.96): Over 12 of those tested are found positive About 1 in every 8 people Yet the tories want you to get back into busy offices and public transport Die so the tories can get rich Fuck the tories\n",
      "(18) denial (0.95): No we’re not all in this together — look at what’s happening with coronavirus in Yakima The Seattle Times\n",
      "(19) denial (0.97): PlaysTrumpCard realDonaldTrump USFDA SteveFDA CDCgov DHSgov So it’s been said you’re taking hydroxychloroquine with zinc zinc opens up the virus to allow the hydroxychloroquine to get in and stop the coronavirus from replicating\n",
      "(20) denial (0.92): Still a long way to go WHO Reports Over 1 Lakh COVID19 Cases In Past 24 Hours Highest In A Day\n",
      "Stopped.\n",
      "Done.\n"
     ]
    }
   ],
   "source": [
    "FILE_NAME = \"hoax.csv\"\n",
    "api = Authentication(isApp=False).get_api()\n",
    "auth = api.auth\n",
    "streamListener = LivePredictionStream(FILE_NAME, predictor, num_iter=20, verbose=1)\n",
    "stream = tweepy.Stream(auth=auth, listener=streamListener)\n",
    "\n",
    "try:\n",
    "    print('Start streaming...')\n",
    "    stream.filter(languages=['en'], \n",
    "                    track=[\"coronavirus\"])\n",
    "\n",
    "except Exception:\n",
    "    print(\"Stopped.\")\n",
    "\n",
    "finally:\n",
    "    print('Done.')\n",
    "    stream.disconnect()"
   ]
  },
  {
   "cell_type": "markdown",
   "metadata": {},
   "source": [
    "## 3. Visualisations"
   ]
  },
  {
   "cell_type": "code",
   "execution_count": null,
   "metadata": {
    "scrolled": true
   },
   "outputs": [],
   "source": []
  }
 ],
 "metadata": {
  "kernelspec": {
   "display_name": "Python 3",
   "language": "python",
   "name": "python3"
  },
  "language_info": {
   "codemirror_mode": {
    "name": "ipython",
    "version": 3
   },
   "file_extension": ".py",
   "mimetype": "text/x-python",
   "name": "python",
   "nbconvert_exporter": "python",
   "pygments_lexer": "ipython3",
   "version": "3.7.7"
  }
 },
 "nbformat": 4,
 "nbformat_minor": 4
}
