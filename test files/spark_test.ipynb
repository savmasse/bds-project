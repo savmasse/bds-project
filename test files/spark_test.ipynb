{
 "cells": [
  {
   "cell_type": "code",
   "execution_count": 2,
   "metadata": {},
   "outputs": [],
   "source": [
    "# Import libraries\n",
    "from pyspark import SparkContext, SparkConf\n",
    "from pyspark.sql import SparkSession, Row\n",
    "import pandas as pd\n",
    "import numpy as np\n",
    "import string\n",
    "import nltk\n",
    "from nltk.corpus import stopwords\n",
    "import re\n",
    "\n",
    "# Import our own code\n",
    "from Authentication import Authentication\n",
    "from DataMiner import DataMiner\n",
    "from PreProcessTweets import PreProcessTweets\n",
    "from TweetDataIO import TweetDataIO\n",
    "from DenialPredictor import DenialPredictor\n",
    "\n",
    "# Create a set of English stopwords\n",
    "sw = set(stopwords.words(\"english\")) \n",
    "\n",
    "# Initiate spark\n",
    "#sc = SparkContext('local[*]')\n",
    "spark = SparkSession.builder.getOrCreate()\n",
    "\n",
    "# Get twitter api\n",
    "api = Authentication().get_api()"
   ]
  },
  {
   "cell_type": "code",
   "execution_count": 3,
   "metadata": {
    "scrolled": false
   },
   "outputs": [
    {
     "name": "stdout",
     "output_type": "stream",
     "text": [
      "Processing tag: #coronaHoax\n",
      "Processing tag: #BillGatesIsEvil\n",
      "Processing tag: #CoronaVirus\n",
      "Processing tag: #Covid19\n",
      "Processing tag: #FilmYourHospital\n",
      "Processing tag: #scamdemic\n",
      "Processing tag: #MAGA\n",
      "Processing tag: #QAnon\n",
      "Processing tag: #BillGates\n",
      "Processing tag: #Plandemic2020\n",
      "Processing tag: #POTUS\n",
      "Processing tag: #ResistTheNewWorldOrder\n",
      "Processing tag: #CORONAHOAX\n",
      "Processing tag: #Corona\n",
      "Processing tag: #Coronabollocks\n",
      "Processing tag: #sos\n",
      "Processing tag: #WWG1WGA\n",
      "Processing tag: #coronabollocks\n",
      "Processing tag: #NWO\n",
      "Processing tag: #Scamdemic\n",
      "Processing tag: #CovidHoax\n",
      "Processing tag: #plandemic\n",
      "Processing tag: #q\n",
      "Processing tag: #woke\n",
      "Processing tag: #thegreatawakening\n",
      "Processing tag: #DrainTheSwamp\n",
      "Processing tag: #Coronahoax\n",
      "Processing tag: #BillGatesBioTerrorist\n",
      "Processing tag: #endthelockdown\n",
      "Processing tag: #FakePandemic\n",
      "Processing tag: #ObamaGate\n",
      "Processing tag: #Plandemic\n",
      "Processing tag: #coronahoax\n",
      "Processing tag: #CoronaHoax\n",
      "========================================\n",
      "Processing tag: #covid19\n",
      "Processing tag: #Coronavirus\n",
      "Processing tag: #Covid_19\n",
      "Processing tag: #COVID19\n",
      "Processing tag: #coronavirus\n"
     ]
    }
   ],
   "source": [
    "# Mine some denial tweets (no specific location)\n",
    "tagignore = [\"#Covid_19\", \"#coronavirus\", \"#COVIDー19\", \"#COVID19\", \"#coronavirusNYC\", \"#coronavirusoregon\", \"#lockdown\", \"#covid19\", \"#COVID\", \"#pandemic\"]\n",
    "miner = DataMiner(api, \"#CoronaHoax\", \"\", \"en\", tagignore=tagignore, num_tweets=10)\n",
    "denial_tweets = miner.mine()\n",
    "\n",
    "# Mine some control tweets (no specific location)\n",
    "print(\"=\"*40)\n",
    "tagignore = [\"#CoronaHoax\", \"#covidhoax\",\"#coronahoax\", \"#covidhoax\", \"#Plandemic\"]\n",
    "miner = DataMiner(api, \"coronavirus\", \"\", \"en\", tagignore=tagignore, num_tweets=50)\n",
    "control_tweets = miner.mine()"
   ]
  },
  {
   "cell_type": "code",
   "execution_count": 4,
   "metadata": {},
   "outputs": [],
   "source": [
    "# Write the tweets to a CSV file\n",
    "filename = \"./training_data.csv\"\n",
    "io = TweetDataIO(filename, spark=spark, context=sc)\n",
    "io.write(denial_tweets, label=0, append=False)\n",
    "io.write(control_tweets, label=1, append=True)"
   ]
  },
  {
   "cell_type": "code",
   "execution_count": 5,
   "metadata": {},
   "outputs": [
    {
     "name": "stdout",
     "output_type": "stream",
     "text": [
      "+-----+--------------------+--------------------+--------------------+-------------------+-------------------+---------------+\n",
      "|label|            location|                tags|                text|               time|           tweet_id|           user|\n",
      "+-----+--------------------+--------------------+--------------------+-------------------+-------------------+---------------+\n",
      "|    0|                    |#CoronaHoax|#Boyc...|I think this #Cor...|2020-05-20 14:34:33|1263115901454266369|     DravanianW|\n",
      "|    0|     New Orleans, LA|#CoronaBorg™,|#Co...|Yes! Resistance t...|2020-05-20 14:29:52|1263114726004924417|    TheKingDude|\n",
      "|    0|         Houston, TX|#coronaHoax|#Lock...|@AmandaLeeHouse V...|2020-05-20 14:24:39|1263113413603057667|     rickjm1961|\n",
      "|    0|      Pittsburgh, PA|         #CoronaHoax|@uniquely_q @Egbe...|2020-05-20 14:22:26|1263112852828807168|  sisisunflower|\n",
      "|    0| Mumbai Meri Jaan ❤️|#India|#Tanzania|...|@biswarooproy The...|2020-05-20 14:14:24|1263110833598414849|  Mandar_240Bhp|\n",
      "|    0|                    |         #CoronaHoax|@MisianoGenovese ...|2020-05-20 14:01:53|1263107683902582784|  lucario_kitty|\n",
      "|    0|                    |#Connecticut|#loc...|Let me guess - @G...|2020-05-20 13:52:59|1263105442957295620|AmericansLove45|\n",
      "|    0|       Manhattan, NY|#trump|#maga|#MAG...|SHHHHH let's keep...|2020-05-20 13:48:28|1263104306409992193|    LazaroLanza|\n",
      "|    0|       Manhattan, NY|#trump|#maga|#MAG...|They want him dea...|2020-05-20 13:21:23|1263097488187240450|    LazaroLanza|\n",
      "|    0|             Silesia|         #coronahoax|#coronahoax for t...|2020-05-20 12:58:15|1263091670284931073|   DamianSecond|\n",
      "|    0|        Toledo, Ohio|#BillGates|#BillG...|This video needs ...|2020-05-20 14:00:18|1263107283904532486|       bleep21k|\n",
      "|    0|New York , Charle...|#trump|#VaccinesA...|Coming from the h...|2020-05-20 13:41:04|1263102442029363200|  ayala_diamond|\n",
      "|    0|                    |#modernavaccine|#...|@RobertKennedyJr ...|2020-05-20 13:31:36|1263100062521077761|  Redpilltaken1|\n",
      "|    0|   San Francisco, CA|#BillGates|#BillG...|This is very real...|2020-05-20 13:23:47|1263098093886517248|       BogieDom|\n",
      "|    0|It is genocide ag...|#BillGatesIsEvil|...|@Jamierodr14 #Bil...|2020-05-20 13:21:05|1263097415650902016|     LesTemplar|\n",
      "|    0| South Carolina, USA|#riseup|#QAnons|#...|https://t.co/DOKL...|2020-05-20 13:08:10|1263094164956352513| K_MaddenRealty|\n",
      "|    0|                    |#COVIDIDIOTS|#Vac...|Does this face ma...|2020-05-20 13:06:44|1263093805311389702|Birdman6446Mark|\n",
      "|    0|                    |#ObamaGate|#Miche...|Definitely looks ...|2020-05-20 13:03:03|1263092876117852161| Selina75717077|\n",
      "|    0|                    |#QAnon|#COVID19|#...|Eyes fkn on. 👀 ?...|2020-05-20 12:50:16|1263089658298347522|        17thOps|\n",
      "|    0|                    |#Apple|#Google|#S...|Check out Episode...|2020-05-20 12:47:56|1263089071989161984|  TheGrassyBowl|\n",
      "+-----+--------------------+--------------------+--------------------+-------------------+-------------------+---------------+\n",
      "only showing top 20 rows\n",
      "\n"
     ]
    }
   ],
   "source": [
    "# Read and show\n",
    "ddf = io.read()\n",
    "ddf.cache()\n",
    "ddf.show()"
   ]
  },
  {
   "cell_type": "code",
   "execution_count": 6,
   "metadata": {},
   "outputs": [
    {
     "name": "stdout",
     "output_type": "stream",
     "text": [
      "+-----+--------------------+--------------------+--------------------+-------------------+-------------------+---------------+\n",
      "|label|            location|                tags|                text|               time|           tweet_id|           user|\n",
      "+-----+--------------------+--------------------+--------------------+-------------------+-------------------+---------------+\n",
      "|    0|         Dunedin, FL|#FilmYourHospital...|SUICIDED &amp ASS...|2020-05-20 00:11:46|1262898777377181697|     elkabong62|\n",
      "|    0|     Dunedin, FL USA|#FilmYourHospital...|SUICIDED &amp ASS...|2020-05-20 00:12:10|1262898878090809344|    thetimewall|\n",
      "|    0|Situbondo, Indonesia|#musica|#MusicPro...|Get This on Displ...|2020-05-20 01:39:28|1262920846215188481|     Ridwan3030|\n",
      "|    0|                    |#scamdemic|#pland...|@KTVU They also f...|2020-05-20 04:31:10|1262964058644336640|     ElGoogKcuf|\n",
      "|    0|    Aichi-ken, Japan|#ResistTheNewWorl...|I #ResistTheNewWo...|2020-05-20 04:58:20|1262970891748757505|     TheMusicks|\n",
      "|    0|    Aichi-ken, Japan|#thread|#read|#Re...|TY for having the...|2020-05-20 05:01:43|1262971745918529537|     TheMusicks|\n",
      "|    0|    Aichi-ken, Japan|#ResistTheNewWorl...|I #ResistTheNewWo...|2020-05-20 05:06:01|1262972825800859649|     TheMusicks|\n",
      "|    0|    Aichi-ken, Japan|#ResistTheNewWorl...|#ResistTheNewWorl...|2020-05-20 05:10:10|1262973872787394561|     TheMusicks|\n",
      "|    0|    Aichi-ken, Japan|#tweets|#ResistTh...|TY so much for yo...|2020-05-20 05:13:48|1262974786595983362|     TheMusicks|\n",
      "|    0|    Aichi-ken, Japan|#ResistTheNewWorl...|Now is our time #...|2020-05-20 05:20:42|1262976520991027202|     TheMusicks|\n",
      "|    0|    Aichi-ken, Japan|#ResistTheNewWorl...|Thank you for kee...|2020-05-20 05:26:02|1262977862589542400|     TheMusicks|\n",
      "|    0|                    |#FilmYourHospital...|#FilmYourHospital...|2020-05-20 07:36:17|1263010642329350148| ForFreeSpeech1|\n",
      "|    0|    Aichi-ken, Japan|#vote|#StillIVote...|Although not all ...|2020-05-20 09:56:19|1263045881864974336|     TheMusicks|\n",
      "|    0|      UK + Worldwide|#Corona|#CoronaVi...|LOCKDOWNS DO NOTH...|2020-05-20 11:07:34|1263063813491953664|         Bez___|\n",
      "|    0|                    |#COVID19|#coronap...|Exactly.... #COVI...|2020-05-20 11:23:00|1263067699028135936|Fightfo66024043|\n",
      "|    0|                 USA|#GatesFoundation|...|@PunishDem1776 I ...|2020-05-20 11:26:58|1263068697222017025|moneyhoneyhome1|\n",
      "|    0|   Pompano Beach, FL|#redpill|#filmyou...|@qheintz @Duckdog...|2020-05-20 11:29:26|1263069317345808384|    notDEBUNKED|\n",
      "|    0|    Aichi-ken, Japan|#IcantBreath|#Sti...|#IcantBreath but ...|2020-05-20 11:35:41|1263070889119121408|     TheMusicks|\n",
      "|    0|                    |#waffle|#WeThePeo...|Don’t look too co...|2020-05-20 11:45:18|1263073310281052160|      wheelz_mr|\n",
      "|    0| Birmingham, England|#Corona|#coronabo...|1665 - Great Plag...|2020-05-20 11:48:46|1263074184101367813|     Grimlock81|\n",
      "+-----+--------------------+--------------------+--------------------+-------------------+-------------------+---------------+\n",
      "only showing top 20 rows\n",
      "\n"
     ]
    }
   ],
   "source": [
    "# Remove duplicates \n",
    "ddf.orderBy(\"tweet_id\").dropDuplicates().show()"
   ]
  },
  {
   "cell_type": "markdown",
   "metadata": {},
   "source": [
    "### Perform the preprocessing on the pyspark dataframe"
   ]
  },
  {
   "cell_type": "code",
   "execution_count": 7,
   "metadata": {},
   "outputs": [
    {
     "name": "stdout",
     "output_type": "stream",
     "text": [
      "Preprocessing...\n",
      ">> Removing stopwords...\n",
      ">> Removing urls...\n",
      ">> Removing hashtags...\n",
      ">> Removing user mentions...\n",
      ">> Removing punctuation...\n",
      ">> Removing whitespace...\n",
      "Finished preprocessing!\n"
     ]
    }
   ],
   "source": [
    "p = PreProcessTweets(ddf, True, True, True, True, True)\n",
    "ddf = p.preprocess()"
   ]
  },
  {
   "cell_type": "markdown",
   "metadata": {},
   "source": [
    "### Make some predictions based on the data"
   ]
  },
  {
   "cell_type": "code",
   "execution_count": 8,
   "metadata": {
    "scrolled": false
   },
   "outputs": [
    {
     "name": "stdout",
     "output_type": "stream",
     "text": [
      "Performance metrics: \n",
      "\t-Accuracy: 0.973,\n",
      "\t-Precision: 0.955, \n",
      "\t-Recall: 0.982,\n",
      "\t-F1: 0.968\n",
      "Performance metrics: \n",
      "\t-Accuracy: 0.802,\n",
      "\t-Precision: 0.768, \n",
      "\t-Recall: 0.797,\n",
      "\t-F1: 0.783\n"
     ]
    }
   ],
   "source": [
    "# Convert to pandas for predictions\n",
    "df = ddf.toPandas()\n",
    "\n",
    "# Split data (corpus and labels) into train and test sets\n",
    "predictor = DenialPredictor(df)\n",
    "X_train, X_test, y_train, y_test = predictor.train_test_split(split=0.3)\n",
    "\n",
    "# Fit the model\n",
    "predictor.fit_model(X_train, y_train)\n",
    "\n",
    "# Calculate some metrics to evaluate performance\n",
    "predictor.calc_metrics(X_train, y_train)\n",
    "predictor.calc_metrics(X_test, y_test)"
   ]
  },
  {
   "cell_type": "code",
   "execution_count": null,
   "outputs": [],
   "source": [],
   "metadata": {
    "collapsed": false,
    "pycharm": {
     "name": "#%%\n"
    }
   }
  },
  {
   "cell_type": "code",
   "execution_count": null,
   "outputs": [],
   "source": [],
   "metadata": {
    "collapsed": false,
    "pycharm": {
     "name": "#%%\n"
    }
   }
  },
  {
   "cell_type": "code",
   "execution_count": null,
   "outputs": [],
   "source": [],
   "metadata": {
    "collapsed": false,
    "pycharm": {
     "name": "#%%\n"
    }
   }
  },
  {
   "cell_type": "code",
   "execution_count": null,
   "outputs": [],
   "source": [],
   "metadata": {
    "collapsed": false,
    "pycharm": {
     "name": "#%%\n"
    }
   }
  },
  {
   "cell_type": "code",
   "execution_count": null,
   "outputs": [],
   "source": [],
   "metadata": {
    "collapsed": false,
    "pycharm": {
     "name": "#%%\n"
    }
   }
  },
  {
   "cell_type": "code",
   "execution_count": null,
   "outputs": [],
   "source": [],
   "metadata": {
    "collapsed": false,
    "pycharm": {
     "name": "#%%\n"
    }
   }
  },
  {
   "cell_type": "code",
   "execution_count": null,
   "outputs": [],
   "source": [],
   "metadata": {
    "collapsed": false,
    "pycharm": {
     "name": "#%%\n"
    }
   }
  },
  {
   "cell_type": "code",
   "execution_count": null,
   "outputs": [],
   "source": [],
   "metadata": {
    "collapsed": false,
    "pycharm": {
     "name": "#%%\n"
    }
   }
  },
  {
   "cell_type": "code",
   "execution_count": null,
   "outputs": [],
   "source": [],
   "metadata": {
    "collapsed": false,
    "pycharm": {
     "name": "#%%\n"
    }
   }
  },
  {
   "cell_type": "code",
   "execution_count": null,
   "metadata": {},
   "outputs": [],
   "source": []
  },
  {
   "cell_type": "code",
   "execution_count": null,
   "metadata": {},
   "outputs": [],
   "source": []
  },
  {
   "cell_type": "code",
   "execution_count": null,
   "metadata": {},
   "outputs": [],
   "source": []
  }
 ],
 "metadata": {
  "kernelspec": {
   "display_name": "Python 3",
   "language": "python",
   "name": "python3"
  },
  "language_info": {
   "codemirror_mode": {
    "name": "ipython",
    "version": 3
   },
   "file_extension": ".py",
   "mimetype": "text/x-python",
   "name": "python",
   "nbconvert_exporter": "python",
   "pygments_lexer": "ipython3",
   "version": "3.7.3"
  }
 },
 "nbformat": 4,
 "nbformat_minor": 2
}