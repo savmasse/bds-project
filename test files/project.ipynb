{
 "cells": [
  {
   "cell_type": "markdown",
   "metadata": {},
   "source": [
    "# Project Big Data Science (May 2020)"
   ]
  },
  {
   "cell_type": "code",
   "execution_count": 1,
   "metadata": {},
   "outputs": [
    {
     "name": "stderr",
     "output_type": "stream",
     "text": [
      "[nltk_data] Error loading stopwords: <urlopen error [SSL:\n",
      "[nltk_data]     CERTIFICATE_VERIFY_FAILED] certificate verify failed:\n",
      "[nltk_data]     unable to get local issuer certificate (_ssl.c:1056)>\n"
     ]
    },
    {
     "data": {
      "text/plain": [
       "False"
      ]
     },
     "execution_count": 1,
     "metadata": {},
     "output_type": "execute_result"
    }
   ],
   "source": [
    "# Import 3rd party libraries\n",
    "import tweepy\n",
    "import numpy as np\n",
    "import nltk\n",
    "#from nltk.corpus import stopwords\n",
    "import re\n",
    "import matplotlib.pyplot as plt\n",
    "import pandas as pd\n",
    "import importlib\n",
    "\n",
    "# Import our own code\n",
    "from DataMiner import DataMiner\n",
    "from HashtagFinder import HashtagFinder\n",
    "from PreProcessTweets import PreProcessTweets\n",
    "from Authentication import Authentication\n",
    "from LocationService import LocationService\n",
    "import Visualisation\n",
    "\n",
    "# Download the Dutch stop words from the NLTK repository.\n",
    "nltk.download('stopwords')\n",
    "\n",
    "#\"44.4415,-102.6855,1000km\""
   ]
  },
  {
   "cell_type": "code",
   "execution_count": 2,
   "metadata": {},
   "outputs": [],
   "source": [
    "auth = Authentication()\n",
    "api = auth.get_api()"
   ]
  },
  {
   "cell_type": "code",
   "execution_count": 3,
   "metadata": {},
   "outputs": [
    {
     "data": {
      "text/plain": [
       "<matplotlib.axes._subplots.AxesSubplot at 0x12f4edf28>"
      ]
     },
     "execution_count": 3,
     "metadata": {},
     "output_type": "execute_result"
    },
    {
     "data": {
      "image/png": "[encoded data removed]",
      "text/plain": [
       "<Figure size 432x288 with 1 Axes>"
      ]
     },
     "metadata": {
      "needs_background": "light"
     },
     "output_type": "display_data"
    }
   ],
   "source": [
    "FILE = \"#CoronaHoax.csv\"\n",
    "importlib.reload(Visualisation)\n",
    "\n",
    "vis = Visualisation.Visualisation(FILE)\n",
    "\n",
    "vis.trending_tags_global()"
   ]
  },
  {
   "cell_type": "code",
   "execution_count": 4,
   "metadata": {},
   "outputs": [
    {
     "name": "stdout",
     "output_type": "stream",
     "text": [
      "text           334\n",
      "tags           150\n",
      "user           334\n",
      "time           334\n",
      "location       334\n",
      "coordinates      7\n",
      "dtype: int64\n"
     ]
    }
   ],
   "source": [
    "locationservice = LocationService()\n",
    "df = locationservice.add_location_data(FILE)"
   ]
  },
  {
   "cell_type": "code",
   "execution_count": 5,
   "metadata": {},
   "outputs": [
    {
     "data": {
      "text/html": [
       "<div>\n",
       "<style scoped>\n",
       "    .dataframe tbody tr th:only-of-type {\n",
       "        vertical-align: middle;\n",
       "    }\n",
       "\n",
       "    .dataframe tbody tr th {\n",
       "        vertical-align: top;\n",
       "    }\n",
       "\n",
       "    .dataframe thead th {\n",
       "        text-align: right;\n",
       "    }\n",
       "</style>\n",
       "<table border=\"1\" class=\"dataframe\">\n",
       "  <thead>\n",
       "    <tr style=\"text-align: right;\">\n",
       "      <th></th>\n",
       "      <th>text</th>\n",
       "      <th>tags</th>\n",
       "      <th>user</th>\n",
       "      <th>time</th>\n",
       "      <th>location</th>\n",
       "      <th>coordinates</th>\n",
       "    </tr>\n",
       "  </thead>\n",
       "  <tbody>\n",
       "    <tr>\n",
       "      <th>1</th>\n",
       "      <td>Only one thing I do understand about this is t...</td>\n",
       "      <td>#Scamdemic|#ReopenAmericaNow</td>\n",
       "      <td>DeafGuyForTrump</td>\n",
       "      <td>2020-05-16 15:59:01</td>\n",
       "      <td>Dipshit(Denver), Colorado</td>\n",
       "      <td>None</td>\n",
       "    </tr>\n",
       "    <tr>\n",
       "      <th>2</th>\n",
       "      <td>@freedompersia7 @mrfezzywig77 That’s where thi...</td>\n",
       "      <td>NaN</td>\n",
       "      <td>TiwannaRN42</td>\n",
       "      <td>2020-05-16 15:59:27</td>\n",
       "      <td>Chicago, IL</td>\n",
       "      <td>[41.8755616, -87.6244212]</td>\n",
       "    </tr>\n",
       "    <tr>\n",
       "      <th>3</th>\n",
       "      <td>@BreitbartNews “Rory McIlroy discusses his hur...</td>\n",
       "      <td>#nonvalueadd|#prodouche</td>\n",
       "      <td>faxoverfeelings</td>\n",
       "      <td>2020-05-16 15:59:34</td>\n",
       "      <td>Shith Ole, CA</td>\n",
       "      <td>None</td>\n",
       "    </tr>\n",
       "    <tr>\n",
       "      <th>4</th>\n",
       "      <td>@realDonaldTrump @RandPaul @va_shiva @GovMikeD...</td>\n",
       "      <td>#TruthFreedomHealth|#Shiva4Senate|#OANN</td>\n",
       "      <td>MyraBaker528</td>\n",
       "      <td>2020-05-16 16:00:11</td>\n",
       "      <td>Cincinnati</td>\n",
       "      <td>[39.1014537, -84.5124602]</td>\n",
       "    </tr>\n",
       "    <tr>\n",
       "      <th>5</th>\n",
       "      <td>#gibgateskeinechance #Plandemic #WWG1WGA #QAno...</td>\n",
       "      <td>#gibgateskeinechance|#Plandemic|#WWG1WGA|#QAno...</td>\n",
       "      <td>BeanieBee7</td>\n",
       "      <td>2020-05-16 16:00:37</td>\n",
       "      <td>Oberhausen, Deutschland</td>\n",
       "      <td>[51.4696137, 6.8514435]</td>\n",
       "    </tr>\n",
       "    <tr>\n",
       "      <th>6</th>\n",
       "      <td>https://t.co/2Dt4gcTtO3\\n\\n— \\nThis debunks th...</td>\n",
       "      <td>NaN</td>\n",
       "      <td>exhanny</td>\n",
       "      <td>2020-05-16 16:00:48</td>\n",
       "      <td>United Arab Emirates</td>\n",
       "      <td>[24.0002488, 53.9994829]</td>\n",
       "    </tr>\n",
       "    <tr>\n",
       "      <th>7</th>\n",
       "      <td>@Distinct_Words @getoffmylawn60 How the fuck a...</td>\n",
       "      <td>NaN</td>\n",
       "      <td>commoncentsman</td>\n",
       "      <td>2020-05-16 16:00:55</td>\n",
       "      <td>Georgia, USA</td>\n",
       "      <td>[32.3293809, -83.1137366]</td>\n",
       "    </tr>\n",
       "    <tr>\n",
       "      <th>9</th>\n",
       "      <td>@denise4607 Doing amazing. It’s garden season ...</td>\n",
       "      <td>#QArmy|#COVID19|#Plandemic</td>\n",
       "      <td>HardwayNovember</td>\n",
       "      <td>2020-05-16 16:01:19</td>\n",
       "      <td>Up a haller</td>\n",
       "      <td>[51.0633608, 6.1894453]</td>\n",
       "    </tr>\n",
       "    <tr>\n",
       "      <th>10</th>\n",
       "      <td>@Jamieson_Canada @ShopprsDrugMart why is there...</td>\n",
       "      <td>NaN</td>\n",
       "      <td>greenvaults</td>\n",
       "      <td>2020-05-16 16:01:47</td>\n",
       "      <td>Canada</td>\n",
       "      <td>[61.0666922, -107.9917071]</td>\n",
       "    </tr>\n",
       "    <tr>\n",
       "      <th>11</th>\n",
       "      <td>#Trending The Original Plandemic: Unmasking Th...</td>\n",
       "      <td>#Trending</td>\n",
       "      <td>myprwirenews</td>\n",
       "      <td>2020-05-16 16:01:50</td>\n",
       "      <td>Bellevue, WA</td>\n",
       "      <td>[47.6144219, -122.1923372]</td>\n",
       "    </tr>\n",
       "    <tr>\n",
       "      <th>13</th>\n",
       "      <td>@itsJeffTiedrich @realDonaldTrump You should s...</td>\n",
       "      <td>NaN</td>\n",
       "      <td>BlakeBartlett14</td>\n",
       "      <td>2020-05-16 16:01:58</td>\n",
       "      <td>Costa Mesa, CA</td>\n",
       "      <td>[33.6633386, -117.903317]</td>\n",
       "    </tr>\n",
       "    <tr>\n",
       "      <th>16</th>\n",
       "      <td>There isn’t a bigger sheep move than wearing a...</td>\n",
       "      <td>#plandemic</td>\n",
       "      <td>P_Panic_Co</td>\n",
       "      <td>2020-05-16 16:02:18</td>\n",
       "      <td>Sin City via the Steel City</td>\n",
       "      <td>None</td>\n",
       "    </tr>\n",
       "    <tr>\n",
       "      <th>17</th>\n",
       "      <td>@Eric_Ericeira @0ldManStoneZone Plandemic and ...</td>\n",
       "      <td>NaN</td>\n",
       "      <td>don_narp</td>\n",
       "      <td>2020-05-16 16:02:46</td>\n",
       "      <td>United States</td>\n",
       "      <td>[39.7837304, -100.4458825]</td>\n",
       "    </tr>\n",
       "    <tr>\n",
       "      <th>18</th>\n",
       "      <td>People are slowly by slowly discovering that C...</td>\n",
       "      <td>NaN</td>\n",
       "      <td>TomJMO</td>\n",
       "      <td>2020-05-16 16:03:08</td>\n",
       "      <td>Mombasa, Kenya</td>\n",
       "      <td>[-4.05052, 39.667169]</td>\n",
       "    </tr>\n",
       "    <tr>\n",
       "      <th>19</th>\n",
       "      <td>Coronavirus ‘Plandemic’ and the seven traits o...</td>\n",
       "      <td>NaN</td>\n",
       "      <td>ICEINTERN</td>\n",
       "      <td>2020-05-16 16:03:26</td>\n",
       "      <td>Irvine, California</td>\n",
       "      <td>[33.6856969, -117.8259819]</td>\n",
       "    </tr>\n",
       "    <tr>\n",
       "      <th>20</th>\n",
       "      <td>@jackhutton @jmartNYT And the #plandemic is st...</td>\n",
       "      <td>#plandemic</td>\n",
       "      <td>Covfefejomama2</td>\n",
       "      <td>2020-05-16 16:03:41</td>\n",
       "      <td>MAGA Country SW #WWG1WGAWW</td>\n",
       "      <td>None</td>\n",
       "    </tr>\n",
       "    <tr>\n",
       "      <th>21</th>\n",
       "      <td>I’m an Investigative Journalist. These Are the...</td>\n",
       "      <td>NaN</td>\n",
       "      <td>MLMillenson</td>\n",
       "      <td>2020-05-16 16:03:56</td>\n",
       "      <td>Chicago, IL</td>\n",
       "      <td>[41.8755616, -87.6244212]</td>\n",
       "    </tr>\n",
       "    <tr>\n",
       "      <th>23</th>\n",
       "      <td>We WON'T forget in November and we WILL make s...</td>\n",
       "      <td>NaN</td>\n",
       "      <td>symplsymin</td>\n",
       "      <td>2020-05-16 16:03:57</td>\n",
       "      <td>USA</td>\n",
       "      <td>[39.7837304, -100.4458825]</td>\n",
       "    </tr>\n",
       "    <tr>\n",
       "      <th>25</th>\n",
       "      <td>@miamicloser how would a scientific journal be...</td>\n",
       "      <td>NaN</td>\n",
       "      <td>Jessedegenerate</td>\n",
       "      <td>2020-05-16 16:04:01</td>\n",
       "      <td>NYC</td>\n",
       "      <td>[40.7127281, -74.0060152]</td>\n",
       "    </tr>\n",
       "    <tr>\n",
       "      <th>27</th>\n",
       "      <td>Issue #138 is live feat:\\n\\n#B2B #Marketing #C...</td>\n",
       "      <td>#138|#B2B|#Marketing|#Coronavirus|#SaaS|#CS|#t...</td>\n",
       "      <td>KatieMartell</td>\n",
       "      <td>2020-05-16 16:04:24</td>\n",
       "      <td>Boston, MA</td>\n",
       "      <td>[42.3602534, -71.0582912]</td>\n",
       "    </tr>\n",
       "  </tbody>\n",
       "</table>\n",
       "</div>"
      ],
      "text/plain": [
       "                                                 text  \\\n",
       "1   Only one thing I do understand about this is t...   \n",
       "2   @freedompersia7 @mrfezzywig77 That’s where thi...   \n",
       "3   @BreitbartNews “Rory McIlroy discusses his hur...   \n",
       "4   @realDonaldTrump @RandPaul @va_shiva @GovMikeD...   \n",
       "5   #gibgateskeinechance #Plandemic #WWG1WGA #QAno...   \n",
       "6   https://t.co/2Dt4gcTtO3\\n\\n— \\nThis debunks th...   \n",
       "7   @Distinct_Words @getoffmylawn60 How the fuck a...   \n",
       "9   @denise4607 Doing amazing. It’s garden season ...   \n",
       "10  @Jamieson_Canada @ShopprsDrugMart why is there...   \n",
       "11  #Trending The Original Plandemic: Unmasking Th...   \n",
       "13  @itsJeffTiedrich @realDonaldTrump You should s...   \n",
       "16  There isn’t a bigger sheep move than wearing a...   \n",
       "17  @Eric_Ericeira @0ldManStoneZone Plandemic and ...   \n",
       "18  People are slowly by slowly discovering that C...   \n",
       "19  Coronavirus ‘Plandemic’ and the seven traits o...   \n",
       "20  @jackhutton @jmartNYT And the #plandemic is st...   \n",
       "21  I’m an Investigative Journalist. These Are the...   \n",
       "23  We WON'T forget in November and we WILL make s...   \n",
       "25  @miamicloser how would a scientific journal be...   \n",
       "27  Issue #138 is live feat:\\n\\n#B2B #Marketing #C...   \n",
       "\n",
       "                                                 tags             user  \\\n",
       "1                        #Scamdemic|#ReopenAmericaNow  DeafGuyForTrump   \n",
       "2                                                 NaN      TiwannaRN42   \n",
       "3                             #nonvalueadd|#prodouche  faxoverfeelings   \n",
       "4             #TruthFreedomHealth|#Shiva4Senate|#OANN     MyraBaker528   \n",
       "5   #gibgateskeinechance|#Plandemic|#WWG1WGA|#QAno...       BeanieBee7   \n",
       "6                                                 NaN          exhanny   \n",
       "7                                                 NaN   commoncentsman   \n",
       "9                          #QArmy|#COVID19|#Plandemic  HardwayNovember   \n",
       "10                                                NaN      greenvaults   \n",
       "11                                          #Trending     myprwirenews   \n",
       "13                                                NaN  BlakeBartlett14   \n",
       "16                                         #plandemic       P_Panic_Co   \n",
       "17                                                NaN         don_narp   \n",
       "18                                                NaN           TomJMO   \n",
       "19                                                NaN        ICEINTERN   \n",
       "20                                         #plandemic   Covfefejomama2   \n",
       "21                                                NaN      MLMillenson   \n",
       "23                                                NaN       symplsymin   \n",
       "25                                                NaN  Jessedegenerate   \n",
       "27  #138|#B2B|#Marketing|#Coronavirus|#SaaS|#CS|#t...     KatieMartell   \n",
       "\n",
       "                   time                     location  \\\n",
       "1   2020-05-16 15:59:01    Dipshit(Denver), Colorado   \n",
       "2   2020-05-16 15:59:27                  Chicago, IL   \n",
       "3   2020-05-16 15:59:34                Shith Ole, CA   \n",
       "4   2020-05-16 16:00:11                   Cincinnati   \n",
       "5   2020-05-16 16:00:37      Oberhausen, Deutschland   \n",
       "6   2020-05-16 16:00:48         United Arab Emirates   \n",
       "7   2020-05-16 16:00:55                 Georgia, USA   \n",
       "9   2020-05-16 16:01:19                  Up a haller   \n",
       "10  2020-05-16 16:01:47                       Canada   \n",
       "11  2020-05-16 16:01:50                 Bellevue, WA   \n",
       "13  2020-05-16 16:01:58               Costa Mesa, CA   \n",
       "16  2020-05-16 16:02:18  Sin City via the Steel City   \n",
       "17  2020-05-16 16:02:46                United States   \n",
       "18  2020-05-16 16:03:08               Mombasa, Kenya   \n",
       "19  2020-05-16 16:03:26           Irvine, California   \n",
       "20  2020-05-16 16:03:41  MAGA Country SW #WWG1WGAWW    \n",
       "21  2020-05-16 16:03:56                  Chicago, IL   \n",
       "23  2020-05-16 16:03:57                          USA   \n",
       "25  2020-05-16 16:04:01                          NYC   \n",
       "27  2020-05-16 16:04:24                   Boston, MA   \n",
       "\n",
       "                   coordinates  \n",
       "1                         None  \n",
       "2    [41.8755616, -87.6244212]  \n",
       "3                         None  \n",
       "4    [39.1014537, -84.5124602]  \n",
       "5      [51.4696137, 6.8514435]  \n",
       "6     [24.0002488, 53.9994829]  \n",
       "7    [32.3293809, -83.1137366]  \n",
       "9      [51.0633608, 6.1894453]  \n",
       "10  [61.0666922, -107.9917071]  \n",
       "11  [47.6144219, -122.1923372]  \n",
       "13   [33.6633386, -117.903317]  \n",
       "16                        None  \n",
       "17  [39.7837304, -100.4458825]  \n",
       "18       [-4.05052, 39.667169]  \n",
       "19  [33.6856969, -117.8259819]  \n",
       "20                        None  \n",
       "21   [41.8755616, -87.6244212]  \n",
       "23  [39.7837304, -100.4458825]  \n",
       "25   [40.7127281, -74.0060152]  \n",
       "27   [42.3602534, -71.0582912]  "
      ]
     },
     "execution_count": 5,
     "metadata": {},
     "output_type": "execute_result"
    }
   ],
   "source": [
    "df.head(20)"
   ]
  },
  {
   "cell_type": "code",
   "execution_count": 13,
   "metadata": {},
   "outputs": [
    {
     "name": "stdout",
     "output_type": "stream",
     "text": [
      "(40.7127281, -74.0060152)\n"
     ]
    }
   ],
   "source": [
    "importlib.reload(Visualisation)\n",
    "vis = Visualisation.Visualisation(df)\n",
    "vis.trending_tags_local(\"New York City\", \"United States\")"
   ]
  },
  {
   "cell_type": "markdown",
   "metadata": {},
   "source": [
    "## Tweet data mining\n",
    "\n",
    "We use the Tweepy.Cursor functionality to search for tweets on the coronavirus topic in a certain geographical area in the United States. We take New York City because this region has been most affected by the virus."
   ]
  },
  {
   "cell_type": "code",
   "execution_count": 3,
   "metadata": {},
   "outputs": [],
   "source": [
    "NUM_TWEETS = 5000\n",
    "SEARCH_TERM = \"#CovidHoax -filter:retweets\"\n",
    "loc = LocationService()\n",
    "lat, lng = loc.get_coordinates(\"New York City\", \"United States\")\n",
    "location_radius = str(lat) + \",\" + str(lng) + \",100km\"\n",
    "language = \"en\"\n",
    "starting_hashtag = \"#Plandemic\"\n",
    "#ignore generic tags, since they could corrupt the denial-tweets dataset\n",
    "tagignore = [\"#Covid_19\", \"#coronavirus\", \"#COVIDー19\", \"#COVID19\", \"#coronavirusNYC\", \"#coronavirusoregon\", \"#lockdown\", \"#covid19\", \"#COVID\", \"#pandemic\"]"
   ]
  },
  {
   "cell_type": "code",
   "execution_count": 4,
   "metadata": {},
   "outputs": [
    {
     "name": "stdout",
     "output_type": "stream",
     "text": [
      "Processing tag: #scamdemic\n",
      "Processing tag: #Plandemic2020\n",
      "Processing tag: #ObamaGate\n",
      "Processing tag: #PlandemicDocumentary\n",
      "Processing tag: #ConspiracyTheory\n",
      "Processing tag: #plandemic\n",
      "Processing tag: #Plandemic\n",
      "Processed 2160 tweets.\n"
     ]
    }
   ],
   "source": [
    "miner = DataMiner(api, starting_hashtag, location_radius, language, tagignore)\n",
    "denial_tweets = miner.mine()\n",
    "print(f\"Processed {len(list(denial_tweets))} tweets.\")"
   ]
  },
  {
   "cell_type": "code",
   "execution_count": 5,
   "metadata": {},
   "outputs": [
    {
     "name": "stdout",
     "output_type": "stream",
     "text": [
      "Processing tag: #COVID\n",
      "Processing tag: #fakenews\n",
      "Processing tag: #PLANdemic\n",
      "Processing tag: #pandemic\n",
      "Processing tag: #QAnon\n",
      "Processing tag: #WWG1GWA\n",
      "Processing tag: #DeepState\n",
      "Processing tag: #COVIDIOTS\n",
      "Processing tag: #Fauci\n",
      "Processing tag: #qanon\n",
      "Processing tag: #PLANDEMIC\n",
      "Processing tag: #FauciFraud\n",
      "Processing tag: #scamdemic\n",
      "Processing tag: #Plandemic2020\n",
      "Processing tag: #ObamaGate\n",
      "Processing tag: #PlandemicDocumentary\n",
      "Processing tag: #ConspiracyTheory\n",
      "Processing tag: #plandemic\n",
      "Processing tag: #Plandemic\n"
     ]
    }
   ],
   "source": [
    "denial_tweets.extend(miner.mine(\"#CoronaHoax\"))"
   ]
  },
  {
   "cell_type": "code",
   "execution_count": 6,
   "metadata": {},
   "outputs": [
    {
     "data": {
      "text/html": [
       "<div>\n",
       "<style scoped>\n",
       "    .dataframe tbody tr th:only-of-type {\n",
       "        vertical-align: middle;\n",
       "    }\n",
       "\n",
       "    .dataframe tbody tr th {\n",
       "        vertical-align: top;\n",
       "    }\n",
       "\n",
       "    .dataframe thead th {\n",
       "        text-align: right;\n",
       "    }\n",
       "</style>\n",
       "<table border=\"1\" class=\"dataframe\">\n",
       "  <thead>\n",
       "    <tr style=\"text-align: right;\">\n",
       "      <th></th>\n",
       "      <th>Author</th>\n",
       "      <th>Location</th>\n",
       "      <th>Tags</th>\n",
       "    </tr>\n",
       "  </thead>\n",
       "  <tbody>\n",
       "    <tr>\n",
       "      <th>0</th>\n",
       "      <td>Nestor Delgado</td>\n",
       "      <td>Brooklyn, New York</td>\n",
       "      <td>[#scamdemic]</td>\n",
       "    </tr>\n",
       "    <tr>\n",
       "      <th>1</th>\n",
       "      <td>Luna77</td>\n",
       "      <td>New Jersey, USA</td>\n",
       "      <td>[#Scamdemic]</td>\n",
       "    </tr>\n",
       "    <tr>\n",
       "      <th>2</th>\n",
       "      <td>Kat</td>\n",
       "      <td>Florida, USA</td>\n",
       "      <td>[#scamdemic, #controlaviris]</td>\n",
       "    </tr>\n",
       "    <tr>\n",
       "      <th>3</th>\n",
       "      <td>Yoshi Yokamura</td>\n",
       "      <td>New Jersey, USA</td>\n",
       "      <td>[#pizzagate, #Scamdemic]</td>\n",
       "    </tr>\n",
       "    <tr>\n",
       "      <th>4</th>\n",
       "      <td>Yoshi Yokamura</td>\n",
       "      <td>New Jersey, USA</td>\n",
       "      <td>[#scamdemic]</td>\n",
       "    </tr>\n",
       "  </tbody>\n",
       "</table>\n",
       "</div>"
      ],
      "text/plain": [
       "           Author             Location                          Tags\n",
       "0  Nestor Delgado   Brooklyn, New York                  [#scamdemic]\n",
       "1          Luna77      New Jersey, USA                  [#Scamdemic]\n",
       "2             Kat         Florida, USA  [#scamdemic, #controlaviris]\n",
       "3  Yoshi Yokamura      New Jersey, USA      [#pizzagate, #Scamdemic]\n",
       "4  Yoshi Yokamura      New Jersey, USA                  [#scamdemic]"
      ]
     },
     "execution_count": 6,
     "metadata": {},
     "output_type": "execute_result"
    }
   ],
   "source": [
    "panda = miner.get_dataframe()\n",
    "panda.head()"
   ]
  },
  {
   "cell_type": "code",
   "execution_count": 7,
   "metadata": {},
   "outputs": [
    {
     "name": "stdout",
     "output_type": "stream",
     "text": [
      "Finished reading 5000 items.\n"
     ]
    }
   ],
   "source": [
    "items = tweepy.Cursor(api.search,\n",
    "            q=\"coronavirus -filter:retweets\", \n",
    "            geocode=\"40.7282,-73.7949,1000km\",\n",
    "            count=100,\n",
    "            lang=\"en\",\n",
    "            include_rts=False,\n",
    "            tweet_mode=\"extended\").items(NUM_TWEETS)\n",
    "\n",
    "items = list(items)\n",
    "print(f\"Finished reading {len(items)} items.\")\n",
    "control_tweets = [t.full_text for t in items]"
   ]
  },
  {
   "cell_type": "code",
   "execution_count": null,
   "metadata": {},
   "outputs": [],
   "source": [
    "items = tweepy.Cursor(api.search,\n",
    "            q=\"covid -filter:retweets\", \n",
    "            geocode=\"40.7282,-73.7949,1000km\",\n",
    "            count=100,\n",
    "            lang=\"en\",\n",
    "            include_rts=False,\n",
    "            tweet_mode=\"extended\").items(NUM_TWEETS)\n",
    "\n",
    "items = list(items)\n",
    "print(f\"Finished reading {len(items)} items.\")\n",
    "control_tweets.extend([t.full_text for t in items])"
   ]
  },
  {
   "cell_type": "code",
   "execution_count": null,
   "metadata": {},
   "outputs": [],
   "source": [
    "items = tweepy.Cursor(api.search,\n",
    "            q=\"lockdown -filter:retweets\", \n",
    "            geocode=\"40.7282,-73.7949,1000km\",\n",
    "            count=100,\n",
    "            lang=\"en\",\n",
    "            include_rts=False,\n",
    "            tweet_mode=\"extended\").items(NUM_TWEETS)\n",
    "\n",
    "items = list(items)\n",
    "print(f\"Finished reading {len(items)} items.\")\n",
    "control_tweets.extend([t.full_text for t in items])"
   ]
  },
  {
   "cell_type": "markdown",
   "metadata": {},
   "source": [
    "### Create a simple classification model"
   ]
  },
  {
   "cell_type": "code",
   "execution_count": 50,
   "metadata": {},
   "outputs": [],
   "source": [
    "from sklearn import tree\n",
    "from sklearn.naive_bayes import MultinomialNB\n",
    "from sklearn.model_selection import train_test_split\n",
    "from sklearn.feature_extraction.text import CountVectorizer\n",
    "from sklearn.feature_extraction.text import TfidfTransformer\n",
    "from sklearn.linear_model import LogisticRegression\n",
    "from sklearn.metrics import roc_curve, auc, accuracy_score, f1_score, precision_score, recall_score"
   ]
  },
  {
   "cell_type": "code",
   "execution_count": 51,
   "metadata": {},
   "outputs": [],
   "source": [
    "# Do some preprocessing on the text\n",
    "tweets = denial_tweets + control_tweets\n",
    "preprocessor = PreProcessTweets(\n",
    "                                tweets.copy(),\n",
    "                                remove_tags=False,\n",
    "                                remove_urls=True,\n",
    "                                remove_stopwords=True,\n",
    "                                remove_mentions=True\n",
    "                               )\n",
    "corpus = preprocessor.preprocess()\n",
    "labels = [0]*len(denial_tweets) + [1]*len(control_tweets)"
   ]
  },
  {
   "cell_type": "code",
   "execution_count": 52,
   "metadata": {},
   "outputs": [
    {
     "name": "stdout",
     "output_type": "stream",
     "text": [
      "Training performance metrics: \n",
      "\t-Accuracy: 0.975,\n",
      "\t-Precision: 0.978, \n",
      "\t-Recall: 0.983,\n",
      "\t-F1: 0.981\n",
      "===================================\n",
      "Test performance metrics: \n",
      "\t-Accuracy: 0.960,\n",
      "\t-Precision: 0.971, \n",
      "\t-Recall: 0.967,\n",
      "\t-F1: 0.969\n"
     ]
    }
   ],
   "source": [
    "# Vectorize the input data\n",
    "vectorizer = CountVectorizer()\n",
    "X = vectorizer.fit_transform(corpus)\n",
    "\n",
    "# Split into training and test sets\n",
    "X_train, X_test, y_train, y_test = train_test_split(X, \n",
    "                                                    labels, \n",
    "                                                    random_state=123,\n",
    "                                                    test_size=0.3\n",
    "                                                   )\n",
    "\n",
    "# Train a Naive Bayes classifier\n",
    "model = MultinomialNB()\n",
    "model = model.fit(X_train, y_train)\n",
    "\n",
    "# Get some performance metrics on the training set\n",
    "y_predict = model.predict(X_train)\n",
    "\n",
    "a = accuracy_score(y_train, y_predict)\n",
    "p = precision_score(y_train, y_predict)\n",
    "r = recall_score(y_train, y_predict)\n",
    "f = f1_score(y_train, y_predict)\n",
    "print(\"Training performance metrics: \")\n",
    "print(f\"\\t-Accuracy: {a:.3f},\\n\\t-Precision: {p:.3f}, \\n\\t-Recall: {r:.3f},\\n\\t-F1: {f:.3f}\")\n",
    "print(\"=\"*35)\n",
    "\n",
    "# Get some performance metrics on the test set\n",
    "y_predict = model.predict(X_test)\n",
    "\n",
    "a = accuracy_score(y_test, y_predict)\n",
    "p = precision_score(y_test, y_predict)\n",
    "r = recall_score(y_test, y_predict)\n",
    "f = f1_score(y_test, y_predict)\n",
    "print(\"Test performance metrics: \")\n",
    "print(f\"\\t-Accuracy: {a:.3f},\\n\\t-Precision: {p:.3f}, \\n\\t-Recall: {r:.3f},\\n\\t-F1: {f:.3f}\")"
   ]
  },
  {
   "cell_type": "markdown",
   "metadata": {},
   "source": [
    "### Real-world test\n",
    "\n",
    "We can download some more tweets from the same #CoronaHoax hashtag we started with and check that these are indeed flagged correctly as \"COVID denial\" tweets. The tweets now originated from Los Angeles, so there is no overlap from the training data."
   ]
  },
  {
   "cell_type": "code",
   "execution_count": 53,
   "metadata": {},
   "outputs": [],
   "source": [
    "loc = LocationService()\n",
    "lat, lng = loc.get_coordinates(\"Los Angeles\", \"United States\")\n",
    "location = str(lat) + \",\" + str(lng) + \",500km\""
   ]
  },
  {
   "cell_type": "code",
   "execution_count": 72,
   "metadata": {},
   "outputs": [
    {
     "name": "stdout",
     "output_type": "stream",
     "text": [
      "Finished reading 74 items.\n"
     ]
    }
   ],
   "source": [
    "items = tweepy.Cursor(api.search,\n",
    "            q=\"coronahoax -filter:retweets\", \n",
    "            geocode=location,\n",
    "            count=100,\n",
    "            lang=\"en\",\n",
    "            include_rts=False,\n",
    "            tweet_mode=\"extended\").items(100)\n",
    "\n",
    "items = list(items)\n",
    "print(f\"Finished reading {len(items)} items.\")\n",
    "tweets_LA = [t.full_text for t in items]"
   ]
  },
  {
   "cell_type": "code",
   "execution_count": 73,
   "metadata": {},
   "outputs": [],
   "source": [
    "preprocessorLA = PreProcessTweets(\n",
    "                                tweets_LA.copy(), \n",
    "                                remove_tags=False,\n",
    "                                remove_urls=True,\n",
    "                                remove_stopwords=True,\n",
    "                                remove_mentions=True\n",
    "                               )\n",
    "corpus = preprocessorLA.preprocess()"
   ]
  },
  {
   "cell_type": "code",
   "execution_count": 74,
   "metadata": {},
   "outputs": [
    {
     "name": "stdout",
     "output_type": "stream",
     "text": [
      "Accuracy: 0.824\n"
     ]
    }
   ],
   "source": [
    "x = vectorizer.transform(corpus)\n",
    "y_predict = model.predict(x)\n",
    "print(f\"Accuracy: {list(y_predict).count(0) / len(y_predict):.3f}\")"
   ]
  },
  {
   "cell_type": "code",
   "execution_count": null,
   "metadata": {},
   "outputs": [],
   "source": []
  }
 ],
 "metadata": {
  "kernelspec": {
   "display_name": "Python 3",
   "language": "python",
   "name": "python3"
  },
  "language_info": {
   "codemirror_mode": {
    "name": "ipython",
    "version": 3
   },
   "file_extension": ".py",
   "mimetype": "text/x-python",
   "name": "python",
   "nbconvert_exporter": "python",
   "pygments_lexer": "ipython3",
   "version": "3.7.3"
  }
 },
 "nbformat": 4,
 "nbformat_minor": 4
}