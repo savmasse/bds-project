{
 "cells": [
  {
   "cell_type": "code",
   "execution_count": 1,
   "metadata": {},
   "outputs": [],
   "source": [
    "# Import libraries\n",
    "from pyspark import SparkContext, SparkConf\n",
    "from pyspark.sql import SparkSession, Row\n",
    "import pandas as pd\n",
    "import numpy as np\n",
    "import string\n",
    "import nltk\n",
    "from nltk.corpus import stopwords\n",
    "import re\n",
    "\n",
    "# Import our own code\n",
    "from Authentication import Authentication\n",
    "from DataMiner import DataMiner\n",
    "from PreProcessTweets import PreProcessTweets\n",
    "from TweetDataIO import TweetDataIO\n",
    "from DenialPredictor import DenialPredictor\n",
    "\n",
    "# Create a set of English stopwords\n",
    "sw = set(stopwords.words(\"english\")) \n",
    "\n",
    "# Initiate spark\n",
    "sc = SparkContext('local[*]')\n",
    "spark = SparkSession.builder.getOrCreate()\n",
    "\n",
    "# Get twitter api\n",
    "api = Authentication().get_api()"
   ]
  },
  {
   "cell_type": "code",
   "execution_count": 2,
   "metadata": {
    "scrolled": false
   },
   "outputs": [
    {
     "name": "stdout",
     "output_type": "stream",
     "text": [
      "Processing tag: #BillGatesIsEvil\n",
      "Processing tag: #Agenda21\n",
      "Processing tag: #FakeNews\n",
      "Processing tag: #QAnon\n",
      "Processing tag: #Corona\n",
      "Processing tag: #CoronaVirus\n",
      "Processing tag: #FilmYourHospital\n",
      "Processing tag: #BillGates\n",
      "Processing tag: #Covid19\n",
      "Processing tag: #WWG1WGAWORLDWIDE\n",
      "Processing tag: #OBAMAGATEGATE\n",
      "Processing tag: #sos\n",
      "Processing tag: #MAGA\n",
      "Processing tag: #JusticeIsComing\n",
      "Processing tag: #InItTogether\n",
      "Processing tag: #coronabollocks\n",
      "Processing tag: #covid1948\n",
      "Processing tag: #thegreatawakening\n",
      "Processing tag: #woke\n",
      "Processing tag: #Coronabollocks\n",
      "Processing tag: #FireFauci\n",
      "Processing tag: #QANONWORLDWIDE\n",
      "Processing tag: #COVIDIOTS\n",
      "Processing tag: #NWO\n",
      "Processing tag: #q\n",
      "Processing tag: #DrainTheSwamp\n",
      "Processing tag: #CovidHoax\n",
      "Processing tag: #Scamdemic\n",
      "Processing tag: #plandemic\n",
      "Processing tag: #BillGatesBioTerrorist\n",
      "Processing tag: #Coronahoax\n",
      "Processing tag: #TheGreatAwakening\n",
      "Processing tag: #FakePandemic\n",
      "Processing tag: #WWG1WGA\n",
      "Processing tag: #endthelockdown\n",
      "Processing tag: #ObamaGate\n",
      "Processing tag: #Plandemic\n",
      "Processing tag: #coronahoax\n",
      "Processing tag: #CoronaHoax\n",
      "========================================\n",
      "Processing tag: #Coronavirus\n",
      "Processing tag: #COVID19\n",
      "Processing tag: #coronavirus\n"
     ]
    }
   ],
   "source": [
    "# Mine some denial tweets (no specific location)\n",
    "tagignore = [\"#Covid_19\", \"#coronavirus\", \"#COVIDー19\", \"#COVID19\", \"#coronavirusNYC\", \"#coronavirusoregon\", \"#lockdown\", \"#covid19\", \"#COVID\", \"#pandemic\"]\n",
    "miner = DataMiner(api, \"#CoronaHoax\", \"\", \"en\", tagignore=tagignore, num_tweets=10)\n",
    "denial_tweets = miner.mine()\n",
    "\n",
    "# Mine some control tweets (no specific location)\n",
    "print(\"=\"*40)\n",
    "tagignore = [\"#CoronaHoax\", \"#covidhoax\",\"#coronahoax\", \"#covidhoax\", \"#Plandemic\"]\n",
    "miner = DataMiner(api, \"coronavirus\", \"\", \"en\", tagignore=tagignore, num_tweets=50)\n",
    "control_tweets = miner.mine()"
   ]
  },
  {
   "cell_type": "code",
   "execution_count": 3,
   "metadata": {},
   "outputs": [],
   "source": [
    "# Write the tweets to a CSV file\n",
    "filename = \"./training_data.csv\"\n",
    "io = TweetDataIO(filename, spark=spark, context=sc)\n",
    "io.write(denial_tweets, label=0, append=False)\n",
    "io.write(control_tweets, label=1, append=True)"
   ]
  },
  {
   "cell_type": "code",
   "execution_count": 4,
   "metadata": {},
   "outputs": [
    {
     "name": "stdout",
     "output_type": "stream",
     "text": [
      "+-----+--------------------+--------------------+-------------------+-------------------+---------------+\n",
      "|label|            location|                text|               time|           tweet_id|           user|\n",
      "+-----+--------------------+--------------------+-------------------+-------------------+---------------+\n",
      "|    0| North Carolina, USA|@GregMannarino It...|2020-05-18 23:39:33|1262528281238212610|POSITIVECAT6961|\n",
      "|    0|Montreal, Quebec,...|OPERATION WARP SP...|2020-05-18 23:39:22|1262528233813291008|FreeRadioRevolu|\n",
      "|    0|                    |@VdBiggelaar @ec_...|2020-05-18 23:35:14|1262527195836276737|        CV454US|\n",
      "|    0|England, United K...|CORONOVIRUS. THIS...|2020-05-18 23:15:03|1262522114093060102|   islamdaily__|\n",
      "|    0|Ashland, Massachu...|#NowWatching FW: ...|2020-05-18 23:13:58|1262521844218818560|quantumtimerepo|\n",
      "|    0|   Dallas, Texas USA|Italian politicia...|2020-05-18 23:03:15|1262519145159106561|    EdwinRankin|\n",
      "|    0|                    |Most of your conv...|2020-05-18 22:34:27|1262511899473637376|   MajikJulie65|\n",
      "|    0|                    |Fuck the Contact ...|2020-05-18 22:30:15|1262510840902676482|   MajikJulie65|\n",
      "|    0|                    |its BRIBING ELECT...|2020-05-18 22:19:05|1262508029179826176|  24hoursalove1|\n",
      "|    0|                    |@Huawei You can s...|2020-05-18 22:18:54|1262507983549784064|   MajikJulie65|\n",
      "|    0|         Houston, TX|#Agenda21 in our ...|2020-05-18 23:37:54|1262527866690056192|     STorpedo17|\n",
      "|    0|The Court JEST3R ...|@ashkaur @ezralev...|2020-05-18 23:15:31|1262522233274146816|   JadedJackXXX|\n",
      "|    0|                    |@SkyNewsAust @Ang...|2020-05-18 23:08:42|1262520519212974080| TrumpPatriot22|\n",
      "|    0|                    |Trumps $138m and ...|2020-05-18 22:45:44|1262514737331556353|      atasiding|\n",
      "|    0|    Kali-Yuga, Earth|#statism has kill...|2020-05-18 22:40:21|1262513384777449476|        diksaca|\n",
      "|    0|                    |#DefundWHO #Agend...|2020-05-18 22:30:10|1262510819239133184|franktalk108211|\n",
      "|    0|       San Francisco|Thanks to The Con...|2020-05-18 22:09:54|1262505718298501120|      RosaKoire|\n",
      "|    0|                    |@POTUS #ObamaGate...|2020-05-18 22:06:29|1262504861100376064|franktalk108211|\n",
      "|    0|    British Columbia|@WeAreCanProud Tr...|2020-05-18 21:50:16|1262500779899809792|   BCHOMEHUNTER|\n",
      "|    0|New Delhi, Rajast...|Do you believe th...|2020-05-18 21:41:40|1262498616792485889|      vikasmnpc|\n",
      "+-----+--------------------+--------------------+-------------------+-------------------+---------------+\n",
      "only showing top 20 rows\n",
      "\n"
     ]
    }
   ],
   "source": [
    "# Read and show\n",
    "ddf = io.read()\n",
    "ddf.cache()\n",
    "ddf.show()"
   ]
  },
  {
   "cell_type": "code",
   "execution_count": 5,
   "metadata": {},
   "outputs": [
    {
     "name": "stdout",
     "output_type": "stream",
     "text": [
      "+-----+--------------------+--------------------+-------------------+-------------------+---------------+\n",
      "|label|            location|                text|               time|           tweet_id|           user|\n",
      "+-----+--------------------+--------------------+-------------------+-------------------+---------------+\n",
      "|    0|The Holy City of ...|@JonnyHilton5 Wha...|2020-05-18 17:54:21|1262441407387783170|  Sheikh_Anvakh|\n",
      "|    0|      United Kingdom|Northern Ireland ...|2020-05-18 18:47:15|1262454722998554625|     TelegramJf|\n",
      "|    0|    North Kilt Town |This lockdown was...|2020-05-18 18:56:24|1262457022936764416|   irishyiddo13|\n",
      "|    0|      United Kingdom|How dare you trav...|2020-05-18 19:24:36|1262464119392940033|   OSIANBYLEVID|\n",
      "|    0|https://soundclou...|👉💉🦠The #NewAbn...|2020-05-18 20:00:31|1262473158407290880| EinsteinsMagic|\n",
      "|    0|                    |@tnfeline @rodney...|2020-05-18 20:46:58|1262484850310774786|       GetClass|\n",
      "|    0|         Chicago, IL|@CAPAction Hospit...|2020-05-18 21:20:47|1262493357483462657|    trumpgender|\n",
      "|    0|   Washington state |@LeftSarah @seanh...|2020-05-18 21:26:51|1262494886642675712|RhondaG78772272|\n",
      "|    0|            Creation|Hahaha, #OMG. I'm...|2020-05-18 21:27:45|1262495114364100609|   MagnumCaseum|\n",
      "|    0|   Washington state |@LeftSarah @seanh...|2020-05-18 21:38:05|1262497712454299648|RhondaG78772272|\n",
      "|    0|New Delhi, Rajast...|Do you believe th...|2020-05-18 21:41:40|1262498616792485889|      vikasmnpc|\n",
      "|    0|    British Columbia|@WeAreCanProud Tr...|2020-05-18 21:50:16|1262500779899809792|   BCHOMEHUNTER|\n",
      "|    0|      United Kingdom|Many of my medica...|2020-05-18 21:58:00|1262502725473968130|   sandipchakra|\n",
      "|    0|     Los Angeles, CA|Does it make sens...|2020-05-18 22:02:25|1262503836133933056|   PradipeYoggi|\n",
      "|    0|                    |@LotusOak2 And I’...|2020-05-18 22:03:06|1262504006984835074|    SilenceDGBF|\n",
      "|    0|                    |@conciousness777 ...|2020-05-18 22:03:12|1262504035447234560| RichardWesley0|\n",
      "|    0|                    |@POTUS #ObamaGate...|2020-05-18 22:06:29|1262504861100376064|franktalk108211|\n",
      "|    0|                    |@kelleher_chris @...|2020-05-18 22:08:03|1262505253263618050|   KaryAnthony2|\n",
      "|    0|       San Francisco|Thanks to The Con...|2020-05-18 22:09:54|1262505718298501120|      RosaKoire|\n",
      "|    0|                    |Bill Gates Offere...|2020-05-18 22:13:22|1262506593985298432|       howzit4u|\n",
      "+-----+--------------------+--------------------+-------------------+-------------------+---------------+\n",
      "only showing top 20 rows\n",
      "\n"
     ]
    }
   ],
   "source": [
    "# Remove duplicates \n",
    "ddf.orderBy(\"tweet_id\").dropDuplicates().show()"
   ]
  },
  {
   "cell_type": "markdown",
   "metadata": {},
   "source": [
    "### Perform the preprocessing on the pyspark dataframe"
   ]
  },
  {
   "cell_type": "code",
   "execution_count": 6,
   "metadata": {},
   "outputs": [
    {
     "name": "stdout",
     "output_type": "stream",
     "text": [
      "Preprocessing...\n",
      ">> Removing stopwords...\n",
      ">> Removing urls...\n",
      ">> Removing hashtags...\n",
      ">> Removing user mentions...\n",
      ">> Removing punctuation...\n",
      ">> Removing whitespace...\n",
      "Finished preprocessing!\n"
     ]
    }
   ],
   "source": [
    "p = PreProcessTweets(ddf, True, True, True, True, True)\n",
    "ddf = p.preprocess()"
   ]
  },
  {
   "cell_type": "markdown",
   "metadata": {},
   "source": [
    "### Make some predictions based on the data"
   ]
  },
  {
   "cell_type": "code",
   "execution_count": 7,
   "metadata": {
    "scrolled": false
   },
   "outputs": [
    {
     "name": "stdout",
     "output_type": "stream",
     "text": [
      "Performance metrics: \n",
      "\t-Accuracy: 0.955,\n",
      "\t-Precision: 0.907, \n",
      "\t-Recall: 0.933,\n",
      "\t-F1: 0.920\n",
      "Performance metrics: \n",
      "\t-Accuracy: 0.790,\n",
      "\t-Precision: 0.604, \n",
      "\t-Recall: 0.711,\n",
      "\t-F1: 0.653\n"
     ]
    }
   ],
   "source": [
    "# Convert to pandas for predictions\n",
    "df = ddf.toPandas()\n",
    "\n",
    "# Split data (corpus and labels) into train and test sets\n",
    "predictor = DenialPredictor(df)\n",
    "X_train, X_test, y_train, y_test = predictor.train_test_split(split=0.3)\n",
    "\n",
    "# Fit the model\n",
    "predictor.fit_model(X_train, y_train)\n",
    "\n",
    "# Calculate some metrics to evaluate performance\n",
    "predictor.calc_metrics(X_train, y_train)\n",
    "predictor.calc_metrics(X_test, y_test)"
   ]
  }
 ],
 "metadata": {
  "kernelspec": {
   "display_name": "Python 3",
   "language": "python",
   "name": "python3"
  },
  "language_info": {
   "codemirror_mode": {
    "name": "ipython",
    "version": 3
   },
   "file_extension": ".py",
   "mimetype": "text/x-python",
   "name": "python",
   "nbconvert_exporter": "python",
   "pygments_lexer": "ipython3",
   "version": "3.7.7"
  }
 },
 "nbformat": 4,
 "nbformat_minor": 2
}
