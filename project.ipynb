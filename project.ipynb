{
 "cells": [
  {
   "cell_type": "markdown",
   "metadata": {},
   "source": [
    "# Project Big Data Science (May 2020)"
   ]
  },
  {
   "cell_type": "code",
   "execution_count": 1,
   "metadata": {},
   "outputs": [
    {
     "name": "stderr",
     "output_type": "stream",
     "text": [
      "[nltk_data] Downloading package stopwords to\n",
      "[nltk_data]     /Users/wannesvanleemput/nltk_data...\n",
      "[nltk_data]   Package stopwords is already up-to-date!\n"
     ]
    },
    {
     "data": {
      "text/plain": [
       "True"
      ]
     },
     "execution_count": 1,
     "metadata": {},
     "output_type": "execute_result"
    }
   ],
   "source": [
    "# Import 3rd party libraries\n",
    "import tweepy\n",
    "import numpy as np\n",
    "import nltk\n",
    "#from nltk.corpus import stopwords\n",
    "import re\n",
    "import matplotlib.pyplot as plt\n",
    "import pandas as pd\n",
    "\n",
    "# Import our own code\n",
    "from DataMiner import DataMiner\n",
    "from HashtagFinder import HashtagFinder\n",
    "from PreProcessTweets import PreProcessTweets\n",
    "from Authentication import Authentication\n",
    "from LocationService import LocationService\n",
    "from Visualisation import Visualisation\n",
    "\n",
    "# Download the Dutch stop words from the NLTK repository.\n",
    "nltk.download('stopwords')\n",
    "\n",
    "#\"44.4415,-102.6855,1000km\""
   ]
  },
  {
   "cell_type": "code",
   "execution_count": 2,
   "metadata": {},
   "outputs": [],
   "source": [
    "auth = Authentication()\n",
    "api = auth.get_api()"
   ]
  },
  {
   "cell_type": "code",
   "execution_count": 3,
   "metadata": {},
   "outputs": [
    {
     "data": {
      "text/plain": [
       "<matplotlib.axes._subplots.AxesSubplot at 0x1a20b96090>"
      ]
     },
     "execution_count": 3,
     "metadata": {},
     "output_type": "execute_result"
    },
    {
     "data": {
      "image/png": "[encoded data removed]",
      "text/plain": [
       "<Figure size 432x288 with 1 Axes>"
      ]
     },
     "metadata": {
      "needs_background": "light"
     },
     "output_type": "display_data"
    }
   ],
   "source": [
    "FILE = \"#CoronaHoax.csv\"\n",
    "\n",
    "vis = Visualisation(FILE)\n",
    "\n",
    "vis.trending_tags_global()"
   ]
  },
  {
   "cell_type": "code",
   "execution_count": 4,
   "metadata": {},
   "outputs": [
    {
     "name": "stdout",
     "output_type": "stream",
     "text": [
      "text           520\n",
      "tags           241\n",
      "user           520\n",
      "time           520\n",
      "location       520\n",
      "coordinates      8\n",
      "dtype: int64\n"
     ]
    },
    {
     "name": "stderr",
     "output_type": "stream",
     "text": [
      "RateLimiter caught an error, retrying (0/2 tries). Called with (*('San Antonio, TX',), **{}).\n",
      "Traceback (most recent call last):\n",
      "  File \"/Users/wannesvanleemput/opt/anaconda3/lib/python3.7/urllib/request.py\", line 1319, in do_open\n",
      "    encode_chunked=req.has_header('Transfer-encoding'))\n",
      "  File \"/Users/wannesvanleemput/opt/anaconda3/lib/python3.7/http/client.py\", line 1252, in request\n",
      "    self._send_request(method, url, body, headers, encode_chunked)\n",
      "  File \"/Users/wannesvanleemput/opt/anaconda3/lib/python3.7/http/client.py\", line 1298, in _send_request\n",
      "    self.endheaders(body, encode_chunked=encode_chunked)\n",
      "  File \"/Users/wannesvanleemput/opt/anaconda3/lib/python3.7/http/client.py\", line 1247, in endheaders\n",
      "    self._send_output(message_body, encode_chunked=encode_chunked)\n",
      "  File \"/Users/wannesvanleemput/opt/anaconda3/lib/python3.7/http/client.py\", line 1026, in _send_output\n",
      "    self.send(msg)\n",
      "  File \"/Users/wannesvanleemput/opt/anaconda3/lib/python3.7/http/client.py\", line 966, in send\n",
      "    self.connect()\n",
      "  File \"/Users/wannesvanleemput/opt/anaconda3/lib/python3.7/http/client.py\", line 1414, in connect\n",
      "    super().connect()\n",
      "  File \"/Users/wannesvanleemput/opt/anaconda3/lib/python3.7/http/client.py\", line 938, in connect\n",
      "    (self.host,self.port), self.timeout, self.source_address)\n",
      "  File \"/Users/wannesvanleemput/opt/anaconda3/lib/python3.7/socket.py\", line 728, in create_connection\n",
      "    raise err\n",
      "  File \"/Users/wannesvanleemput/opt/anaconda3/lib/python3.7/socket.py\", line 716, in create_connection\n",
      "    sock.connect(sa)\n",
      "OSError: [Errno 65] No route to host\n",
      "\n",
      "During handling of the above exception, another exception occurred:\n",
      "\n",
      "Traceback (most recent call last):\n",
      "  File \"/Users/wannesvanleemput/opt/anaconda3/lib/python3.7/site-packages/geopy/geocoders/base.py\", line 367, in _call_geocoder\n",
      "    page = requester(req, timeout=timeout, **kwargs)\n",
      "  File \"/Users/wannesvanleemput/opt/anaconda3/lib/python3.7/urllib/request.py\", line 525, in open\n",
      "    response = self._open(req, data)\n",
      "  File \"/Users/wannesvanleemput/opt/anaconda3/lib/python3.7/urllib/request.py\", line 543, in _open\n",
      "    '_open', req)\n",
      "  File \"/Users/wannesvanleemput/opt/anaconda3/lib/python3.7/urllib/request.py\", line 503, in _call_chain\n",
      "    result = func(*args)\n",
      "  File \"/Users/wannesvanleemput/opt/anaconda3/lib/python3.7/urllib/request.py\", line 1362, in https_open\n",
      "    context=self._context, check_hostname=self._check_hostname)\n",
      "  File \"/Users/wannesvanleemput/opt/anaconda3/lib/python3.7/urllib/request.py\", line 1321, in do_open\n",
      "    raise URLError(err)\n",
      "urllib.error.URLError: <urlopen error [Errno 65] No route to host>\n",
      "\n",
      "During handling of the above exception, another exception occurred:\n",
      "\n",
      "Traceback (most recent call last):\n",
      "  File \"/Users/wannesvanleemput/opt/anaconda3/lib/python3.7/site-packages/geopy/extra/rate_limiter.py\", line 126, in __call__\n",
      "    return self.func(*args, **kwargs)\n",
      "  File \"/Users/wannesvanleemput/opt/anaconda3/lib/python3.7/site-packages/geopy/geocoders/osm.py\", line 408, in geocode\n",
      "    self._call_geocoder(url, timeout=timeout), exactly_one\n",
      "  File \"/Users/wannesvanleemput/opt/anaconda3/lib/python3.7/site-packages/geopy/geocoders/base.py\", line 402, in _call_geocoder\n",
      "    raise GeocoderServiceError(message)\n",
      "geopy.exc.GeocoderServiceError: [Errno 65] No route to host\n",
      "RateLimiter caught an error, retrying (0/2 tries). Called with (*('San Antonio, Texas',), **{}).\n",
      "Traceback (most recent call last):\n",
      "  File \"/Users/wannesvanleemput/opt/anaconda3/lib/python3.7/urllib/request.py\", line 1319, in do_open\n",
      "    encode_chunked=req.has_header('Transfer-encoding'))\n",
      "  File \"/Users/wannesvanleemput/opt/anaconda3/lib/python3.7/http/client.py\", line 1252, in request\n",
      "    self._send_request(method, url, body, headers, encode_chunked)\n",
      "  File \"/Users/wannesvanleemput/opt/anaconda3/lib/python3.7/http/client.py\", line 1298, in _send_request\n",
      "    self.endheaders(body, encode_chunked=encode_chunked)\n",
      "  File \"/Users/wannesvanleemput/opt/anaconda3/lib/python3.7/http/client.py\", line 1247, in endheaders\n",
      "    self._send_output(message_body, encode_chunked=encode_chunked)\n",
      "  File \"/Users/wannesvanleemput/opt/anaconda3/lib/python3.7/http/client.py\", line 1026, in _send_output\n",
      "    self.send(msg)\n",
      "  File \"/Users/wannesvanleemput/opt/anaconda3/lib/python3.7/http/client.py\", line 966, in send\n",
      "    self.connect()\n",
      "  File \"/Users/wannesvanleemput/opt/anaconda3/lib/python3.7/http/client.py\", line 1414, in connect\n",
      "    super().connect()\n",
      "  File \"/Users/wannesvanleemput/opt/anaconda3/lib/python3.7/http/client.py\", line 938, in connect\n",
      "    (self.host,self.port), self.timeout, self.source_address)\n",
      "  File \"/Users/wannesvanleemput/opt/anaconda3/lib/python3.7/socket.py\", line 728, in create_connection\n",
      "    raise err\n",
      "  File \"/Users/wannesvanleemput/opt/anaconda3/lib/python3.7/socket.py\", line 716, in create_connection\n",
      "    sock.connect(sa)\n",
      "OSError: [Errno 65] No route to host\n",
      "\n",
      "During handling of the above exception, another exception occurred:\n",
      "\n",
      "Traceback (most recent call last):\n",
      "  File \"/Users/wannesvanleemput/opt/anaconda3/lib/python3.7/site-packages/geopy/geocoders/base.py\", line 367, in _call_geocoder\n",
      "    page = requester(req, timeout=timeout, **kwargs)\n",
      "  File \"/Users/wannesvanleemput/opt/anaconda3/lib/python3.7/urllib/request.py\", line 525, in open\n",
      "    response = self._open(req, data)\n",
      "  File \"/Users/wannesvanleemput/opt/anaconda3/lib/python3.7/urllib/request.py\", line 543, in _open\n",
      "    '_open', req)\n",
      "  File \"/Users/wannesvanleemput/opt/anaconda3/lib/python3.7/urllib/request.py\", line 503, in _call_chain\n",
      "    result = func(*args)\n",
      "  File \"/Users/wannesvanleemput/opt/anaconda3/lib/python3.7/urllib/request.py\", line 1362, in https_open\n",
      "    context=self._context, check_hostname=self._check_hostname)\n",
      "  File \"/Users/wannesvanleemput/opt/anaconda3/lib/python3.7/urllib/request.py\", line 1321, in do_open\n",
      "    raise URLError(err)\n",
      "urllib.error.URLError: <urlopen error [Errno 65] No route to host>\n",
      "\n",
      "During handling of the above exception, another exception occurred:\n",
      "\n",
      "Traceback (most recent call last):\n",
      "  File \"/Users/wannesvanleemput/opt/anaconda3/lib/python3.7/site-packages/geopy/extra/rate_limiter.py\", line 126, in __call__\n",
      "    return self.func(*args, **kwargs)\n",
      "  File \"/Users/wannesvanleemput/opt/anaconda3/lib/python3.7/site-packages/geopy/geocoders/osm.py\", line 408, in geocode\n",
      "    self._call_geocoder(url, timeout=timeout), exactly_one\n",
      "  File \"/Users/wannesvanleemput/opt/anaconda3/lib/python3.7/site-packages/geopy/geocoders/base.py\", line 402, in _call_geocoder\n",
      "    raise GeocoderServiceError(message)\n",
      "geopy.exc.GeocoderServiceError: [Errno 65] No route to host\n"
     ]
    }
   ],
   "source": [
    "locationservice = LocationService()\n",
    "df = locationservice.add_location_data(FILE)"
   ]
  },
  {
   "cell_type": "code",
   "execution_count": 6,
   "metadata": {},
   "outputs": [
    {
     "data": {
      "text/html": [
       "<div>\n",
       "<style scoped>\n",
       "    .dataframe tbody tr th:only-of-type {\n",
       "        vertical-align: middle;\n",
       "    }\n",
       "\n",
       "    .dataframe tbody tr th {\n",
       "        vertical-align: top;\n",
       "    }\n",
       "\n",
       "    .dataframe thead th {\n",
       "        text-align: right;\n",
       "    }\n",
       "</style>\n",
       "<table border=\"1\" class=\"dataframe\">\n",
       "  <thead>\n",
       "    <tr style=\"text-align: right;\">\n",
       "      <th></th>\n",
       "      <th>text</th>\n",
       "      <th>tags</th>\n",
       "      <th>user</th>\n",
       "      <th>time</th>\n",
       "      <th>location</th>\n",
       "      <th>coordinates</th>\n",
       "      <th>processed_location</th>\n",
       "      <th>point</th>\n",
       "    </tr>\n",
       "  </thead>\n",
       "  <tbody>\n",
       "    <tr>\n",
       "      <th>1</th>\n",
       "      <td>Only one thing I do understand about this is t...</td>\n",
       "      <td>#Scamdemic|#ReopenAmericaNow</td>\n",
       "      <td>DeafGuyForTrump</td>\n",
       "      <td>2020-05-16 15:59:01</td>\n",
       "      <td>Dipshit(Denver), Colorado</td>\n",
       "      <td>NaN</td>\n",
       "      <td>None</td>\n",
       "      <td>None</td>\n",
       "    </tr>\n",
       "    <tr>\n",
       "      <th>2</th>\n",
       "      <td>@freedompersia7 @mrfezzywig77 That’s where thi...</td>\n",
       "      <td>NaN</td>\n",
       "      <td>TiwannaRN42</td>\n",
       "      <td>2020-05-16 15:59:27</td>\n",
       "      <td>Chicago, IL</td>\n",
       "      <td>NaN</td>\n",
       "      <td>(Chicago, Cook County, Illinois, United States...</td>\n",
       "      <td>(41.8755616, -87.6244212, 0.0)</td>\n",
       "    </tr>\n",
       "    <tr>\n",
       "      <th>3</th>\n",
       "      <td>@BreitbartNews “Rory McIlroy discusses his hur...</td>\n",
       "      <td>#nonvalueadd|#prodouche</td>\n",
       "      <td>faxoverfeelings</td>\n",
       "      <td>2020-05-16 15:59:34</td>\n",
       "      <td>Shith Ole, CA</td>\n",
       "      <td>NaN</td>\n",
       "      <td>None</td>\n",
       "      <td>None</td>\n",
       "    </tr>\n",
       "    <tr>\n",
       "      <th>4</th>\n",
       "      <td>@realDonaldTrump @RandPaul @va_shiva @GovMikeD...</td>\n",
       "      <td>#TruthFreedomHealth|#Shiva4Senate|#OANN</td>\n",
       "      <td>MyraBaker528</td>\n",
       "      <td>2020-05-16 16:00:11</td>\n",
       "      <td>Cincinnati</td>\n",
       "      <td>NaN</td>\n",
       "      <td>(Cincinnati, Hamilton County, Ohio, United Sta...</td>\n",
       "      <td>(39.1014537, -84.5124602, 0.0)</td>\n",
       "    </tr>\n",
       "    <tr>\n",
       "      <th>5</th>\n",
       "      <td>#gibgateskeinechance #Plandemic #WWG1WGA #QAno...</td>\n",
       "      <td>#gibgateskeinechance|#Plandemic|#WWG1WGA|#QAno...</td>\n",
       "      <td>BeanieBee7</td>\n",
       "      <td>2020-05-16 16:00:37</td>\n",
       "      <td>Oberhausen, Deutschland</td>\n",
       "      <td>NaN</td>\n",
       "      <td>(Oberhausen, Nordrhein-Westfalen, 46045, Deuts...</td>\n",
       "      <td>(51.4696137, 6.8514435, 0.0)</td>\n",
       "    </tr>\n",
       "    <tr>\n",
       "      <th>6</th>\n",
       "      <td>https://t.co/2Dt4gcTtO3\\n\\n— \\nThis debunks th...</td>\n",
       "      <td>NaN</td>\n",
       "      <td>exhanny</td>\n",
       "      <td>2020-05-16 16:00:48</td>\n",
       "      <td>United Arab Emirates</td>\n",
       "      <td>NaN</td>\n",
       "      <td>(الإمارات العربية المتحدة, (24.0002488, 53.999...</td>\n",
       "      <td>(24.0002488, 53.9994829, 0.0)</td>\n",
       "    </tr>\n",
       "    <tr>\n",
       "      <th>7</th>\n",
       "      <td>@Distinct_Words @getoffmylawn60 How the fuck a...</td>\n",
       "      <td>NaN</td>\n",
       "      <td>commoncentsman</td>\n",
       "      <td>2020-05-16 16:00:55</td>\n",
       "      <td>Georgia, USA</td>\n",
       "      <td>NaN</td>\n",
       "      <td>(Georgia, United States of America, (32.329380...</td>\n",
       "      <td>(32.3293809, -83.1137366, 0.0)</td>\n",
       "    </tr>\n",
       "    <tr>\n",
       "      <th>9</th>\n",
       "      <td>@denise4607 Doing amazing. It’s garden season ...</td>\n",
       "      <td>#QArmy|#COVID19|#Plandemic</td>\n",
       "      <td>HardwayNovember</td>\n",
       "      <td>2020-05-16 16:01:19</td>\n",
       "      <td>Up a haller</td>\n",
       "      <td>NaN</td>\n",
       "      <td>(Am Haller, Millich, Hückelhoven, Kreis Heinsb...</td>\n",
       "      <td>(51.0633608, 6.1894453, 0.0)</td>\n",
       "    </tr>\n",
       "    <tr>\n",
       "      <th>10</th>\n",
       "      <td>@Jamieson_Canada @ShopprsDrugMart why is there...</td>\n",
       "      <td>NaN</td>\n",
       "      <td>greenvaults</td>\n",
       "      <td>2020-05-16 16:01:47</td>\n",
       "      <td>Canada</td>\n",
       "      <td>NaN</td>\n",
       "      <td>(Canada, (61.0666922, -107.9917071))</td>\n",
       "      <td>(61.0666922, -107.9917071, 0.0)</td>\n",
       "    </tr>\n",
       "    <tr>\n",
       "      <th>11</th>\n",
       "      <td>#Trending The Original Plandemic: Unmasking Th...</td>\n",
       "      <td>#Trending</td>\n",
       "      <td>myprwirenews</td>\n",
       "      <td>2020-05-16 16:01:50</td>\n",
       "      <td>Bellevue, WA</td>\n",
       "      <td>NaN</td>\n",
       "      <td>(Bellevue, King County, Washington, United Sta...</td>\n",
       "      <td>(47.6144219, -122.1923372, 0.0)</td>\n",
       "    </tr>\n",
       "  </tbody>\n",
       "</table>\n",
       "</div>"
      ],
      "text/plain": [
       "                                                 text  \\\n",
       "1   Only one thing I do understand about this is t...   \n",
       "2   @freedompersia7 @mrfezzywig77 That’s where thi...   \n",
       "3   @BreitbartNews “Rory McIlroy discusses his hur...   \n",
       "4   @realDonaldTrump @RandPaul @va_shiva @GovMikeD...   \n",
       "5   #gibgateskeinechance #Plandemic #WWG1WGA #QAno...   \n",
       "6   https://t.co/2Dt4gcTtO3\\n\\n— \\nThis debunks th...   \n",
       "7   @Distinct_Words @getoffmylawn60 How the fuck a...   \n",
       "9   @denise4607 Doing amazing. It’s garden season ...   \n",
       "10  @Jamieson_Canada @ShopprsDrugMart why is there...   \n",
       "11  #Trending The Original Plandemic: Unmasking Th...   \n",
       "\n",
       "                                                 tags             user  \\\n",
       "1                        #Scamdemic|#ReopenAmericaNow  DeafGuyForTrump   \n",
       "2                                                 NaN      TiwannaRN42   \n",
       "3                             #nonvalueadd|#prodouche  faxoverfeelings   \n",
       "4             #TruthFreedomHealth|#Shiva4Senate|#OANN     MyraBaker528   \n",
       "5   #gibgateskeinechance|#Plandemic|#WWG1WGA|#QAno...       BeanieBee7   \n",
       "6                                                 NaN          exhanny   \n",
       "7                                                 NaN   commoncentsman   \n",
       "9                          #QArmy|#COVID19|#Plandemic  HardwayNovember   \n",
       "10                                                NaN      greenvaults   \n",
       "11                                          #Trending     myprwirenews   \n",
       "\n",
       "                   time                   location coordinates  \\\n",
       "1   2020-05-16 15:59:01  Dipshit(Denver), Colorado         NaN   \n",
       "2   2020-05-16 15:59:27                Chicago, IL         NaN   \n",
       "3   2020-05-16 15:59:34              Shith Ole, CA         NaN   \n",
       "4   2020-05-16 16:00:11                 Cincinnati         NaN   \n",
       "5   2020-05-16 16:00:37    Oberhausen, Deutschland         NaN   \n",
       "6   2020-05-16 16:00:48       United Arab Emirates         NaN   \n",
       "7   2020-05-16 16:00:55               Georgia, USA         NaN   \n",
       "9   2020-05-16 16:01:19                Up a haller         NaN   \n",
       "10  2020-05-16 16:01:47                     Canada         NaN   \n",
       "11  2020-05-16 16:01:50               Bellevue, WA         NaN   \n",
       "\n",
       "                                   processed_location  \\\n",
       "1                                                None   \n",
       "2   (Chicago, Cook County, Illinois, United States...   \n",
       "3                                                None   \n",
       "4   (Cincinnati, Hamilton County, Ohio, United Sta...   \n",
       "5   (Oberhausen, Nordrhein-Westfalen, 46045, Deuts...   \n",
       "6   (الإمارات العربية المتحدة, (24.0002488, 53.999...   \n",
       "7   (Georgia, United States of America, (32.329380...   \n",
       "9   (Am Haller, Millich, Hückelhoven, Kreis Heinsb...   \n",
       "10               (Canada, (61.0666922, -107.9917071))   \n",
       "11  (Bellevue, King County, Washington, United Sta...   \n",
       "\n",
       "                              point  \n",
       "1                              None  \n",
       "2    (41.8755616, -87.6244212, 0.0)  \n",
       "3                              None  \n",
       "4    (39.1014537, -84.5124602, 0.0)  \n",
       "5      (51.4696137, 6.8514435, 0.0)  \n",
       "6     (24.0002488, 53.9994829, 0.0)  \n",
       "7    (32.3293809, -83.1137366, 0.0)  \n",
       "9      (51.0633608, 6.1894453, 0.0)  \n",
       "10  (61.0666922, -107.9917071, 0.0)  \n",
       "11  (47.6144219, -122.1923372, 0.0)  "
      ]
     },
     "execution_count": 6,
     "metadata": {},
     "output_type": "execute_result"
    }
   ],
   "source": [
    "df.head(10)"
   ]
  },
  {
   "cell_type": "markdown",
   "metadata": {},
   "source": [
    "## Tweet data mining\n",
    "\n",
    "We use the Tweepy.Cursor functionality to search for tweets on the coronavirus topic in a certain geographical area in the United States. We take New York City because this region has been most affected by the virus."
   ]
  },
  {
   "cell_type": "code",
   "execution_count": 3,
   "metadata": {},
   "outputs": [],
   "source": [
    "NUM_TWEETS = 5000\n",
    "SEARCH_TERM = \"#CovidHoax -filter:retweets\"\n",
    "loc = LocationService()\n",
    "lat, lng = loc.get_coordinates(\"New York City\", \"United States\")\n",
    "location_radius = str(lat) + \",\" + str(lng) + \",100km\"\n",
    "language = \"en\"\n",
    "starting_hashtag = \"#Plandemic\"\n",
    "#ignore generic tags, since they could corrupt the denial-tweets dataset\n",
    "tagignore = [\"#Covid_19\", \"#coronavirus\", \"#COVIDー19\", \"#COVID19\", \"#coronavirusNYC\", \"#coronavirusoregon\", \"#lockdown\", \"#covid19\", \"#COVID\", \"#pandemic\"]"
   ]
  },
  {
   "cell_type": "code",
   "execution_count": 4,
   "metadata": {},
   "outputs": [
    {
     "name": "stdout",
     "output_type": "stream",
     "text": [
      "Processing tag: #scamdemic\n",
      "Processing tag: #Plandemic2020\n",
      "Processing tag: #ObamaGate\n",
      "Processing tag: #PlandemicDocumentary\n",
      "Processing tag: #ConspiracyTheory\n",
      "Processing tag: #plandemic\n",
      "Processing tag: #Plandemic\n",
      "Processed 2160 tweets.\n"
     ]
    }
   ],
   "source": [
    "miner = DataMiner(api, starting_hashtag, location_radius, language, tagignore)\n",
    "denial_tweets = miner.mine()\n",
    "print(f\"Processed {len(list(denial_tweets))} tweets.\")"
   ]
  },
  {
   "cell_type": "code",
   "execution_count": 5,
   "metadata": {},
   "outputs": [
    {
     "name": "stdout",
     "output_type": "stream",
     "text": [
      "Processing tag: #COVID\n",
      "Processing tag: #fakenews\n",
      "Processing tag: #PLANdemic\n",
      "Processing tag: #pandemic\n",
      "Processing tag: #QAnon\n",
      "Processing tag: #WWG1GWA\n",
      "Processing tag: #DeepState\n",
      "Processing tag: #COVIDIOTS\n",
      "Processing tag: #Fauci\n",
      "Processing tag: #qanon\n",
      "Processing tag: #PLANDEMIC\n",
      "Processing tag: #FauciFraud\n",
      "Processing tag: #scamdemic\n",
      "Processing tag: #Plandemic2020\n",
      "Processing tag: #ObamaGate\n",
      "Processing tag: #PlandemicDocumentary\n",
      "Processing tag: #ConspiracyTheory\n",
      "Processing tag: #plandemic\n",
      "Processing tag: #Plandemic\n"
     ]
    }
   ],
   "source": [
    "denial_tweets.extend(miner.mine(\"#CoronaHoax\"))"
   ]
  },
  {
   "cell_type": "code",
   "execution_count": 6,
   "metadata": {},
   "outputs": [
    {
     "data": {
      "text/html": [
       "<div>\n",
       "<style scoped>\n",
       "    .dataframe tbody tr th:only-of-type {\n",
       "        vertical-align: middle;\n",
       "    }\n",
       "\n",
       "    .dataframe tbody tr th {\n",
       "        vertical-align: top;\n",
       "    }\n",
       "\n",
       "    .dataframe thead th {\n",
       "        text-align: right;\n",
       "    }\n",
       "</style>\n",
       "<table border=\"1\" class=\"dataframe\">\n",
       "  <thead>\n",
       "    <tr style=\"text-align: right;\">\n",
       "      <th></th>\n",
       "      <th>Author</th>\n",
       "      <th>Location</th>\n",
       "      <th>Tags</th>\n",
       "    </tr>\n",
       "  </thead>\n",
       "  <tbody>\n",
       "    <tr>\n",
       "      <th>0</th>\n",
       "      <td>Nestor Delgado</td>\n",
       "      <td>Brooklyn, New York</td>\n",
       "      <td>[#scamdemic]</td>\n",
       "    </tr>\n",
       "    <tr>\n",
       "      <th>1</th>\n",
       "      <td>Luna77</td>\n",
       "      <td>New Jersey, USA</td>\n",
       "      <td>[#Scamdemic]</td>\n",
       "    </tr>\n",
       "    <tr>\n",
       "      <th>2</th>\n",
       "      <td>Kat</td>\n",
       "      <td>Florida, USA</td>\n",
       "      <td>[#scamdemic, #controlaviris]</td>\n",
       "    </tr>\n",
       "    <tr>\n",
       "      <th>3</th>\n",
       "      <td>Yoshi Yokamura</td>\n",
       "      <td>New Jersey, USA</td>\n",
       "      <td>[#pizzagate, #Scamdemic]</td>\n",
       "    </tr>\n",
       "    <tr>\n",
       "      <th>4</th>\n",
       "      <td>Yoshi Yokamura</td>\n",
       "      <td>New Jersey, USA</td>\n",
       "      <td>[#scamdemic]</td>\n",
       "    </tr>\n",
       "  </tbody>\n",
       "</table>\n",
       "</div>"
      ],
      "text/plain": [
       "           Author             Location                          Tags\n",
       "0  Nestor Delgado   Brooklyn, New York                  [#scamdemic]\n",
       "1          Luna77      New Jersey, USA                  [#Scamdemic]\n",
       "2             Kat         Florida, USA  [#scamdemic, #controlaviris]\n",
       "3  Yoshi Yokamura      New Jersey, USA      [#pizzagate, #Scamdemic]\n",
       "4  Yoshi Yokamura      New Jersey, USA                  [#scamdemic]"
      ]
     },
     "execution_count": 6,
     "metadata": {},
     "output_type": "execute_result"
    }
   ],
   "source": [
    "panda = miner.get_dataframe()\n",
    "panda.head()"
   ]
  },
  {
   "cell_type": "code",
   "execution_count": 7,
   "metadata": {},
   "outputs": [
    {
     "name": "stdout",
     "output_type": "stream",
     "text": [
      "Finished reading 5000 items.\n"
     ]
    }
   ],
   "source": [
    "items = tweepy.Cursor(api.search,\n",
    "            q=\"coronavirus -filter:retweets\", \n",
    "            geocode=\"40.7282,-73.7949,1000km\",\n",
    "            count=100,\n",
    "            lang=\"en\",\n",
    "            include_rts=False,\n",
    "            tweet_mode=\"extended\").items(NUM_TWEETS)\n",
    "\n",
    "items = list(items)\n",
    "print(f\"Finished reading {len(items)} items.\")\n",
    "control_tweets = [t.full_text for t in items]"
   ]
  },
  {
   "cell_type": "code",
   "execution_count": null,
   "metadata": {},
   "outputs": [],
   "source": [
    "items = tweepy.Cursor(api.search,\n",
    "            q=\"covid -filter:retweets\", \n",
    "            geocode=\"40.7282,-73.7949,1000km\",\n",
    "            count=100,\n",
    "            lang=\"en\",\n",
    "            include_rts=False,\n",
    "            tweet_mode=\"extended\").items(NUM_TWEETS)\n",
    "\n",
    "items = list(items)\n",
    "print(f\"Finished reading {len(items)} items.\")\n",
    "control_tweets.extend([t.full_text for t in items])"
   ]
  },
  {
   "cell_type": "code",
   "execution_count": null,
   "metadata": {},
   "outputs": [],
   "source": [
    "items = tweepy.Cursor(api.search,\n",
    "            q=\"lockdown -filter:retweets\", \n",
    "            geocode=\"40.7282,-73.7949,1000km\",\n",
    "            count=100,\n",
    "            lang=\"en\",\n",
    "            include_rts=False,\n",
    "            tweet_mode=\"extended\").items(NUM_TWEETS)\n",
    "\n",
    "items = list(items)\n",
    "print(f\"Finished reading {len(items)} items.\")\n",
    "control_tweets.extend([t.full_text for t in items])"
   ]
  },
  {
   "cell_type": "markdown",
   "metadata": {},
   "source": [
    "### Create a simple classification model"
   ]
  },
  {
   "cell_type": "code",
   "execution_count": 50,
   "metadata": {},
   "outputs": [],
   "source": [
    "from sklearn import tree\n",
    "from sklearn.naive_bayes import MultinomialNB\n",
    "from sklearn.model_selection import train_test_split\n",
    "from sklearn.feature_extraction.text import CountVectorizer\n",
    "from sklearn.feature_extraction.text import TfidfTransformer\n",
    "from sklearn.linear_model import LogisticRegression\n",
    "from sklearn.metrics import roc_curve, auc, accuracy_score, f1_score, precision_score, recall_score"
   ]
  },
  {
   "cell_type": "code",
   "execution_count": 51,
   "metadata": {},
   "outputs": [],
   "source": [
    "# Do some preprocessing on the text\n",
    "tweets = denial_tweets + control_tweets\n",
    "preprocessor = PreProcessTweets(\n",
    "                                tweets.copy(),\n",
    "                                remove_tags=False,\n",
    "                                remove_urls=True,\n",
    "                                remove_stopwords=True,\n",
    "                                remove_mentions=True\n",
    "                               )\n",
    "corpus = preprocessor.preprocess()\n",
    "labels = [0]*len(denial_tweets) + [1]*len(control_tweets)"
   ]
  },
  {
   "cell_type": "code",
   "execution_count": 52,
   "metadata": {},
   "outputs": [
    {
     "name": "stdout",
     "output_type": "stream",
     "text": [
      "Training performance metrics: \n",
      "\t-Accuracy: 0.975,\n",
      "\t-Precision: 0.978, \n",
      "\t-Recall: 0.983,\n",
      "\t-F1: 0.981\n",
      "===================================\n",
      "Test performance metrics: \n",
      "\t-Accuracy: 0.960,\n",
      "\t-Precision: 0.971, \n",
      "\t-Recall: 0.967,\n",
      "\t-F1: 0.969\n"
     ]
    }
   ],
   "source": [
    "# Vectorize the input data\n",
    "vectorizer = CountVectorizer()\n",
    "X = vectorizer.fit_transform(corpus)\n",
    "\n",
    "# Split into training and test sets\n",
    "X_train, X_test, y_train, y_test = train_test_split(X, \n",
    "                                                    labels, \n",
    "                                                    random_state=123,\n",
    "                                                    test_size=0.3\n",
    "                                                   )\n",
    "\n",
    "# Train a Naive Bayes classifier\n",
    "model = MultinomialNB()\n",
    "model = model.fit(X_train, y_train)\n",
    "\n",
    "# Get some performance metrics on the training set\n",
    "y_predict = model.predict(X_train)\n",
    "\n",
    "a = accuracy_score(y_train, y_predict)\n",
    "p = precision_score(y_train, y_predict)\n",
    "r = recall_score(y_train, y_predict)\n",
    "f = f1_score(y_train, y_predict)\n",
    "print(\"Training performance metrics: \")\n",
    "print(f\"\\t-Accuracy: {a:.3f},\\n\\t-Precision: {p:.3f}, \\n\\t-Recall: {r:.3f},\\n\\t-F1: {f:.3f}\")\n",
    "print(\"=\"*35)\n",
    "\n",
    "# Get some performance metrics on the test set\n",
    "y_predict = model.predict(X_test)\n",
    "\n",
    "a = accuracy_score(y_test, y_predict)\n",
    "p = precision_score(y_test, y_predict)\n",
    "r = recall_score(y_test, y_predict)\n",
    "f = f1_score(y_test, y_predict)\n",
    "print(\"Test performance metrics: \")\n",
    "print(f\"\\t-Accuracy: {a:.3f},\\n\\t-Precision: {p:.3f}, \\n\\t-Recall: {r:.3f},\\n\\t-F1: {f:.3f}\")"
   ]
  },
  {
   "cell_type": "markdown",
   "metadata": {},
   "source": [
    "### Real-world test\n",
    "\n",
    "We can download some more tweets from the same #CoronaHoax hashtag we started with and check that these are indeed flagged correctly as \"COVID denial\" tweets. The tweets now originated from Los Angeles, so there is no overlap from the training data."
   ]
  },
  {
   "cell_type": "code",
   "execution_count": 53,
   "metadata": {},
   "outputs": [],
   "source": [
    "loc = LocationService()\n",
    "lat, lng = loc.get_coordinates(\"Los Angeles\", \"United States\")\n",
    "location = str(lat) + \",\" + str(lng) + \",500km\""
   ]
  },
  {
   "cell_type": "code",
   "execution_count": 72,
   "metadata": {},
   "outputs": [
    {
     "name": "stdout",
     "output_type": "stream",
     "text": [
      "Finished reading 74 items.\n"
     ]
    }
   ],
   "source": [
    "items = tweepy.Cursor(api.search,\n",
    "            q=\"coronahoax -filter:retweets\", \n",
    "            geocode=location,\n",
    "            count=100,\n",
    "            lang=\"en\",\n",
    "            include_rts=False,\n",
    "            tweet_mode=\"extended\").items(100)\n",
    "\n",
    "items = list(items)\n",
    "print(f\"Finished reading {len(items)} items.\")\n",
    "tweets_LA = [t.full_text for t in items]"
   ]
  },
  {
   "cell_type": "code",
   "execution_count": 73,
   "metadata": {},
   "outputs": [],
   "source": [
    "preprocessorLA = PreProcessTweets(\n",
    "                                tweets_LA.copy(), \n",
    "                                remove_tags=False,\n",
    "                                remove_urls=True,\n",
    "                                remove_stopwords=True,\n",
    "                                remove_mentions=True\n",
    "                               )\n",
    "corpus = preprocessorLA.preprocess()"
   ]
  },
  {
   "cell_type": "code",
   "execution_count": 74,
   "metadata": {},
   "outputs": [
    {
     "name": "stdout",
     "output_type": "stream",
     "text": [
      "Accuracy: 0.824\n"
     ]
    }
   ],
   "source": [
    "x = vectorizer.transform(corpus)\n",
    "y_predict = model.predict(x)\n",
    "print(f\"Accuracy: {list(y_predict).count(0) / len(y_predict):.3f}\")"
   ]
  },
  {
   "cell_type": "code",
   "execution_count": null,
   "metadata": {},
   "outputs": [],
   "source": []
  }
 ],
 "metadata": {
  "kernelspec": {
   "display_name": "Python 3",
   "language": "python",
   "name": "python3"
  },
  "language_info": {
   "codemirror_mode": {
    "name": "ipython",
    "version": 3
   },
   "file_extension": ".py",
   "mimetype": "text/x-python",
   "name": "python",
   "nbconvert_exporter": "python",
   "pygments_lexer": "ipython3",
   "version": "3.7.6"
  }
 },
 "nbformat": 4,
 "nbformat_minor": 4
}
