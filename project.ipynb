{
 "cells": [
  {
   "cell_type": "markdown",
   "metadata": {},
   "source": [
    "# Project Big Data Science (May 2020)"
   ]
  },
  {
   "cell_type": "code",
   "execution_count": 1,
   "metadata": {},
   "outputs": [
    {
     "name": "stderr",
     "output_type": "stream",
     "text": [
      "[nltk_data] Downloading package stopwords to\n",
      "[nltk_data]     /Users/wannesvanleemput/nltk_data...\n",
      "[nltk_data]   Package stopwords is already up-to-date!\n"
     ]
    },
    {
     "data": {
      "text/plain": [
       "True"
      ]
     },
     "execution_count": 1,
     "metadata": {},
     "output_type": "execute_result"
    }
   ],
   "source": [
    "import tweepy\n",
    "import numpy as np\n",
    "from nltk.corpus import stopwords\n",
    "import re\n",
    "import nltk\n",
    "import matplotlib.pyplot as plt\n",
    "\n",
    "# Download the Dutch stop words from the NLTK repository.\n",
    "nltk.download('stopwords')\n",
    "\n",
    "#\"44.4415,-102.6855,1000km\""
   ]
  },
  {
   "cell_type": "code",
   "execution_count": 2,
   "metadata": {},
   "outputs": [],
   "source": [
    "# Consumer keys and access tokens, used for OAuth\n",
    "consumer_key = \"H2oOuvgoFBQ4PA1K9Yd8CqdM6\"        \n",
    "consumer_secret = \"zSa6ulXVdNAl1Xk6TMSw48nVXIm88suBF06JzmT5XNSG2AIBxH\"    \n",
    "access_token = \"1245776529768034306-YDUC9vTttvxvyhDhRVxGjfbt01p3bd\"          \n",
    "access_token_secret = \"7cDHZiGpHSD2Y8Fe6RdRIpe75WephsSmfU6woDhHlD5BX\"\n",
    "\n",
    "auth = tweepy.AppAuthHandler(consumer_key, consumer_secret)\n",
    "#auth = tweepy.OAuthHandler(consumer_key, consumer_secret) \n",
    "#auth.set_access_token(access_token, access_token_secret)\n",
    "\n",
    "# Calling the api: we want a lot of data in one run so we wait for the limit rather than run into error...\n",
    "api = tweepy.API(\n",
    "                auth, \n",
    "                wait_on_rate_limit=True,\n",
    "                wait_on_rate_limit_notify=True\n",
    "                ) \n",
    "\n",
    "if not api:\n",
    "    print(\"Can't authenticate. Check if credentials are correct.\")"
   ]
  },
  {
   "cell_type": "code",
   "execution_count": 3,
   "metadata": {},
   "outputs": [],
   "source": [
    "\"\"\"\n",
    "TODO: Best to do data mining with specific class once program becomes more complex.\n",
    "\"\"\"\n",
    "class DataMiner():\n",
    "    pass"
   ]
  },
  {
   "cell_type": "code",
   "execution_count": 4,
   "metadata": {
    "scrolled": false
   },
   "outputs": [],
   "source": [
    "\"\"\"\n",
    "Class for the preprocessing of tweets; involves removing hyperlinks and stopwords.\n",
    "\"\"\"\n",
    "class PreProcessTweets():\n",
    "    \n",
    "    def __init__(self, \n",
    "                 tweets, \n",
    "                 remove_tags=False, \n",
    "                 remove_stopwords=False, \n",
    "                 remove_urls=False,\n",
    "                 remove_mentions=False,\n",
    "                 remove_punctuation=False):\n",
    "        \n",
    "        self.tweets = tweets\n",
    "        self.remove_tags = remove_tags\n",
    "        self.remove_stopwords = remove_stopwords\n",
    "        self.remove_urls = remove_urls\n",
    "        self.remove_mentions = remove_mentions\n",
    "        self.remove_punctuation = remove_punctuation\n",
    "        \n",
    "    def _remove_urls(self):\n",
    "        \"\"\" Remove all urls from the tweet text. \"\"\"\n",
    "        self.tweets = [re.sub(r'\\s?http\\S+', \"\", t) for t in self.tweets]\n",
    "    \n",
    "    def _remove_stopwords(self):\n",
    "        \"\"\" Remove English stopwords from the text. \"\"\"\n",
    "        sw = set(stopwords.words(\"english\")) \n",
    "        self.tweets = [\" \".join([word for word in c.split() if word not in sw]) for c in self.tweets]\n",
    "\n",
    "    def _remove_hashtag(self, tag=None):\n",
    "        \"\"\" Remove a specific hashtag. If no tag specified, remove all tags.\"\"\"\n",
    "        for index, tweet in enumerate(self.tweets):\n",
    "            words = tweet.split()\n",
    "            no_tags = [word for word in words if \"#\" not in word]\n",
    "            self.tweets[index] = \" \".join(no_tags)\n",
    "            \n",
    "    def _remove_mentions(self):\n",
    "        \"\"\" Remove all mentions (@user). \"\"\"\n",
    "        self.tweets = [re.sub(r'\\s?@\\S+', \"\", t) for t in self.tweets]\n",
    "    \n",
    "    def _remove_punctuation(self):\n",
    "        \"\"\" Punctuation affects words: eg. 'however' is not the same word as 'however,'\"\"\"\n",
    "        pass\n",
    "    \n",
    "    def preprocess(self):\n",
    "        \"\"\" Perform the requested steps of the preprocessing. \"\"\"\n",
    "        \n",
    "        if self.remove_tags:\n",
    "            self._remove_hashtag()\n",
    "            \n",
    "        if self.remove_stopwords:\n",
    "            self._remove_stopwords()\n",
    "            \n",
    "        if self.remove_urls:\n",
    "            self._remove_urls()\n",
    "            \n",
    "        if self.remove_mentions:\n",
    "            self._remove_mentions()\n",
    "        \n",
    "        if self.remove_punctuation:\n",
    "            self._remove_punctuation()\n",
    "            \n",
    "        return self.tweets"
   ]
  },
  {
   "cell_type": "markdown",
   "metadata": {},
   "source": [
    "## Tweet data mining\n",
    "\n",
    "We use the Tweepy.Cursor functionality to search for tweets on the coronavirus topic in a certain geographical area in the United States. We take New York City because this region has been most affected by the virus."
   ]
  },
  {
   "cell_type": "code",
   "execution_count": 5,
   "metadata": {},
   "outputs": [],
   "source": [
    "NUM_TWEETS = 1000\n",
    "SEARCH_TERM = \"#CoronaHoax -filter:retweets\""
   ]
  },
  {
   "cell_type": "code",
   "execution_count": 14,
   "metadata": {
    "scrolled": true
   },
   "outputs": [
    {
     "name": "stdout",
     "output_type": "stream",
     "text": [
      "Finished reading 693 items.\n"
     ]
    }
   ],
   "source": [
    "items = tweepy.Cursor(api.search,\n",
    "            q=SEARCH_TERM, \n",
    "            geocode=\"40.7282,-73.7949,10000km\",\n",
    "            count=100,\n",
    "            lang=\"en\",\n",
    "            include_rts=False,\n",
    "            tweet_mode=\"extended\").items(NUM_TWEETS)\n",
    "\n",
    "items = list(items)\n",
    "print(f\"Finished reading {len(items)} items.\")\n",
    "denial_tweets = [t.full_text for t in items]"
   ]
  },
  {
   "cell_type": "code",
   "execution_count": 7,
   "metadata": {},
   "outputs": [
    {
     "name": "stdout",
     "output_type": "stream",
     "text": [
      "Finished reading 127 items.\n"
     ]
    }
   ],
   "source": [
    "covidhoax_items = tweepy.Cursor(api.search,\n",
    "                    q=\"#CovidHoax -filter:retweets\",\n",
    "                    geocode=\"40.7282,-73.7949,1000km\",\n",
    "                    count=100,\n",
    "                    lang=\"en\",\n",
    "                    include_rts=False,\n",
    "                    tweet_mode=\"extended\").items(NUM_TWEETS)\n",
    "print(f\"Finished reading {len(list(covidhoax_items))} items.\")\n",
    "for item in list(covidhoax_items):\n",
    "    denial_tweets.append(item.full_text)"
   ]
  },
  {
   "cell_type": "code",
   "execution_count": 8,
   "metadata": {},
   "outputs": [
    {
     "name": "stdout",
     "output_type": "stream",
     "text": [
      "Finished reading 1000 items.\n"
     ]
    }
   ],
   "source": [
    "items = tweepy.Cursor(api.search,\n",
    "            q=\"coronavirus -filter:retweets\", \n",
    "            geocode=\"40.7282,-73.7949,1000km\",\n",
    "            count=100,\n",
    "            lang=\"en\",\n",
    "            include_rts=False,\n",
    "            tweet_mode=\"extended\").items(1000)\n",
    "\n",
    "items = list(items)\n",
    "print(f\"Finished reading {len(items)} items.\")\n",
    "control_tweets = [t.full_text for t in items]"
   ]
  },
  {
   "cell_type": "code",
   "execution_count": null,
   "metadata": {},
   "outputs": [],
   "source": []
  },
  {
   "cell_type": "markdown",
   "metadata": {},
   "source": [
    "### Create a simple classification model"
   ]
  },
  {
   "cell_type": "code",
   "execution_count": 9,
   "metadata": {},
   "outputs": [],
   "source": [
    "from sklearn import tree\n",
    "from sklearn.naive_bayes import MultinomialNB\n",
    "from sklearn.model_selection import train_test_split\n",
    "from sklearn.feature_extraction.text import CountVectorizer\n",
    "from sklearn.feature_extraction.text import TfidfTransformer\n",
    "from sklearn.linear_model import LogisticRegression\n",
    "from sklearn.metrics import roc_curve, auc, accuracy_score, f1_score, precision_score, recall_score"
   ]
  },
  {
   "cell_type": "code",
   "execution_count": 10,
   "metadata": {},
   "outputs": [],
   "source": [
    "# Do some preprocessing on the text\n",
    "tweets = denial_tweets + control_tweets\n",
    "preprocessor = PreProcessTweets(\n",
    "                                tweets.copy(), \n",
    "                                remove_tags=True,\n",
    "                                remove_urls=True,\n",
    "                                remove_stopwords=True,\n",
    "                                remove_mentions=True\n",
    "                               )\n",
    "corpus = preprocessor.preprocess()\n",
    "labels = [0]*len(denial_tweets) + [1]*len(control_tweets)"
   ]
  },
  {
   "cell_type": "code",
   "execution_count": 11,
   "metadata": {},
   "outputs": [
    {
     "name": "stdout",
     "output_type": "stream",
     "text": [
      "Training performance metrics: \n",
      "\t-Accuracy: 0.960,\n",
      "\t-Precision: 0.965, \n",
      "\t-Recall: 0.972,\n",
      "\t-F1: 0.969\n",
      "===================================\n",
      "Test performance metrics: \n",
      "\t-Accuracy: 0.794,\n",
      "\t-Precision: 0.881, \n",
      "\t-Recall: 0.803,\n",
      "\t-F1: 0.840\n"
     ]
    }
   ],
   "source": [
    "# Vectorize the input data\n",
    "vectorizer = CountVectorizer()\n",
    "X = vectorizer.fit_transform(corpus)\n",
    "\n",
    "# Split into training and test sets\n",
    "X_train, X_test, y_train, y_test = train_test_split(X, \n",
    "                                                    labels, \n",
    "                                                    random_state=123,\n",
    "                                                    test_size=0.3\n",
    "                                                   )\n",
    "\n",
    "# Train a Naive Bayes classifier\n",
    "model = MultinomialNB()\n",
    "model = model.fit(X_train, y_train)\n",
    "\n",
    "# Get some performance metrics on the training set\n",
    "y_predict = model.predict(X_train)\n",
    "\n",
    "a = accuracy_score(y_train, y_predict)\n",
    "p = precision_score(y_train, y_predict)\n",
    "r = recall_score(y_train, y_predict)\n",
    "f = f1_score(y_train, y_predict)\n",
    "print(\"Training performance metrics: \")\n",
    "print(f\"\\t-Accuracy: {a:.3f},\\n\\t-Precision: {p:.3f}, \\n\\t-Recall: {r:.3f},\\n\\t-F1: {f:.3f}\")\n",
    "print(\"=\"*35)\n",
    "\n",
    "# Get some performance metrics on the test set\n",
    "y_predict = model.predict(X_test)\n",
    "\n",
    "a = accuracy_score(y_test, y_predict)\n",
    "p = precision_score(y_test, y_predict)\n",
    "r = recall_score(y_test, y_predict)\n",
    "f = f1_score(y_test, y_predict)\n",
    "print(\"Test performance metrics: \")\n",
    "print(f\"\\t-Accuracy: {a:.3f},\\n\\t-Precision: {p:.3f}, \\n\\t-Recall: {r:.3f},\\n\\t-F1: {f:.3f}\")"
   ]
  },
  {
   "cell_type": "markdown",
   "metadata": {},
   "source": [
    "### Real-world test\n",
    "\n",
    "We can download some more tweets from another similar hashtag and check that these are indeed flagged correctly as \"COVID denial\" tweets."
   ]
  },
  {
   "cell_type": "code",
   "execution_count": 12,
   "metadata": {},
   "outputs": [
    {
     "name": "stdout",
     "output_type": "stream",
     "text": [
      "Finished reading 49 items.\n"
     ]
    }
   ],
   "source": [
    "items = tweepy.Cursor(api.search,\n",
    "            q=\"#FakePandemic -filter:retweets\", \n",
    "            geocode=\"40.7282,-73.7949,100km\",\n",
    "            count=100,\n",
    "            lang=\"en\",\n",
    "            include_rts=False,\n",
    "            tweet_mode=\"extended\").items(100)\n",
    "\n",
    "items = list(items)\n",
    "print(f\"Finished reading {len(items)} items.\")\n",
    "tweets = [t.full_text for t in items]"
   ]
  },
  {
   "cell_type": "code",
   "execution_count": 13,
   "metadata": {},
   "outputs": [
    {
     "name": "stdout",
     "output_type": "stream",
     "text": [
      "Accuracy: 0.755\n"
     ]
    }
   ],
   "source": [
    "x = vectorizer.transform(tweets)\n",
    "y_predict = model.predict(x)\n",
    "print(f\"Accuracy: {list(y_predict).count(0) / len(y_predict):.3f}\")"
   ]
  },
  {
   "cell_type": "markdown",
   "metadata": {},
   "source": [
    "### Get relevant hashtags\n",
    "\n",
    "Starting from #CovidHoax, we collect hashtags that are commonly used in the same tweet to identify hashtags that are used by hoax believers"
   ]
  },
  {
   "cell_type": "code",
   "execution_count": 38,
   "metadata": {},
   "outputs": [],
   "source": [
    "class HashtagFinder():\n",
    "    \n",
    "    def __init__(self, starting_hashtag):\n",
    "        self.starting_hashtag = starting_hashtag\n",
    "        self.hashtags = {starting_hashtag: 0}\n",
    "        \n",
    "    def collect_tweets(self, tag=\"\"):\n",
    "        if tag == \"\":\n",
    "            tag = self.starting_hashtag\n",
    "        items = tweepy.Cursor(api.search,\n",
    "                             q = tag + \" -filter:retweets\",\n",
    "                             geocode=\"40.7282,-73.7949,1000km\",\n",
    "                             count=100,\n",
    "                             lang=\"en\",\n",
    "                             include_rts=False,\n",
    "                             tweet_mode=\"extended\").items(1000)\n",
    "        items = list(items)\n",
    "        print(f\"Finished reading {len(items)} items.\")\n",
    "        tweets = [t.full_text for t in items]\n",
    "        for index, tweet in enumerate(tweets):\n",
    "            words = tweet.split()\n",
    "            tags = [word for word in words if \"#\" in word]\n",
    "            for tag in tags:\n",
    "                if tag in self.hashtags:\n",
    "                    self.hashtags[tag] = self.hashtags[tag] + 1\n",
    "                else:\n",
    "                    self.hashtags[tag] = 1\n",
    "        \n",
    "    def get_hashtag(self):\n",
    "        return self.hashtags\n",
    "        "
   ]
  },
  {
   "cell_type": "code",
   "execution_count": 39,
   "metadata": {},
   "outputs": [
    {
     "name": "stdout",
     "output_type": "stream",
     "text": [
      "Finished reading 552 items.\n",
      "{'#CoronaHoax': 487, '#FauciTheFraud': 8, '#DemocratsAreCorrupt': 1, '#CharlieBaker': 1, '#Baker': 1, '#MaPoli': 2, '#covid': 3, '#COVIDー19': 11, '#COVID19': 61, '#COVIDIOTS': 9, '#corona': 2, '#Shiva4Senate': 1, '#3moremonths': 2, '#FireFauci': 7, '#Trump2020': 92, '#Coronahoax': 16, '#AuditHoax': 1, '#MexicoWillPayForTheWallHoax': 1, '#RussiaHoax': 2, '#PerfectCallHoax.': 1, '#EmptyHospitals': 1, '#DancingNurses': 1, '#BadDoctors': 1, '#CovidHaox': 1, '#ObamaGate': 12, '#Corruption': 2, '#coronahoax': 33, '#QSentMe': 2, '#TheGreatAwakening': 4, '#TheMoreYouKnow': 1, '#WWG1WGAWORLDWIDE': 4, '#': 4, '#coronavirus': 109, '#CornavirusOutbreak': 1, '#MAGA': 9, '#WakeUpAmerica': 9, '#WakeUpCalifornia': 1, '#WakeUpWorld': 3, '#Lockdown': 1, '#EndTheShutdownNow': 1, '#NoMasks': 4, '#OpenTheEconomy': 1, '#IDIOTS': 1, '#GMO': 1, '#vaccines': 2, '#VaccineInjury': 1, '#CoronavirusLiar': 12, '#WakeUp': 2, '#sheeple': 1, '#truth': 1, '#discernment': 1, '#takingyoursoul': 1, '#government': 1, '#Plandemic': 28, '#BillGatesIsEvil': 3, '#wwg1wga': 5, '#RecallGavinNewsom': 2, '#VoteRedToSaveAmerica': 1, '#ThinkForYourself': 3, '#virus!!!!!!!!!!!': 1, '#COMMUNIST': 1, '#CoronaHOAX': 1, '#COVID_CONSPIRACY': 1, '#Plandemic2020': 5, '#coronapanic': 46, '#coronavirustruth': 47, '#coronavirusoregon': 46, '#coronavirusNYC': 46, '#ReopenOregon': 45, '#ReopenAmerica': 46, '#reopenNYC': 44, '#NoMoreKate': 28, '#LoveTrumpsKate': 27, '#LockUpKate': 26, '#KateNazi': 24, '#KateTheFascist': 22, '#CoronaMadness': 1, '#OpenAmerica': 2, '#auditthefed': 1, '#antivaxxers': 1, '#ReOpenAmerica': 3, '#TimeToWakeUp': 1, '#BestPresidentEver': 2, '#FakePandemic': 11, '#ArrestBillGates': 1, '#ArrestFauci': 3, '#FakeNewsEpidemic': 1, '#CDC': 4, '#voterfraud': 1, '#MailInVoteFraud': 1, '#ThankYouTrump': 1, '#MAGA(Make': 1, '#Trump': 3, '#Corona': 4, '#CoronavirusUSA': 6, '#TrumpDeathToll81K': 2, '#Trump2020NowMoreThanEver': 75, '#BreakingNews': 1, '#socialism': 1, '#KAG': 6, '#Patriot': 2, '#PatriotsUnited': 3, '#USA': 2, '#GOP': 2, '#USCongress': 2, '#LiberalismIsAMentalDisease': 2, '#TDS': 2, '#covid19': 5, '#coronaHoax': 2, '#ENDTHELOCKDOWN.': 1, '#Fauci': 3, '#FauciFraud': 5, '#firefauci': 2, '#investigateallcoviddeaths': 1, '#Covid_19': 11, '#awakening': 1, '#obamagate': 3, '#Qannon': 57, '#QArmy': 5, '#nonaturaldeaths': 1, '#TexasWomenForTrump': 1, '#Coronavirus': 4, '#EvilDrFauci': 1, '#DemocratsTheEnemyWithin': 2, '#GOPCorruptionOverCountry': 1, '#WhereAreTheTests': 1, '#WhereAreTheChildren': 1, '#Boohoo': 1, '#DieForTheDow': 1, '#TrumpMeltdown': 2, '#TrumpVirus': 3, '#StayHomeSaveLives': 1, '#MoscowMitch': 1, '#Pencedemic': 1, '#DontDrinkBleach': 1, '#PPEshortage': 1, '#AmyMcgrath2020': 1, '#VoteByMail2020': 1, '#VoteBlue': 1, '#plandemic': 7, '#Jonesers': 1, '#Obamagate': 1, '#Qanon': 1, '#DemocratControl': 1, '#tiktokers': 3, '#CNN': 2, '#FoxNews': 4, '#MSNBC': 1, '#TrumpLandslideVictory2020': 1, '#trump': 80, '#sisterwives': 1, '#Listen': 1, '#5G': 2, '#Qanon?': 1, '#CoronaHoax?': 2, '#freedom': 4, '#endthelockdown': 9, '#ObaMAGAte': 2, '#Vaccinations': 1, '#CoronaVirus': 3, '#Oregon': 5, '#CoronaVirusUpdate': 2, '#CCP': 2, '#tuckercarlsontonight': 1, '#PushBack': 1, '#lockdown': 11, '#VoluntarySociety': 1, '#scamdemic': 11, '#fatcat': 1, '#politicians': 1, '#PoliceState': 3, '#Orwellian': 1, '#dystopian': 1, '#Dystopia': 1, '#WWG1WGA': 6, '#WorldHealthOrganization': 1, 'out...#CoronaHoax': 1, '#MartialLaw': 1, '#ShelterInPlace': 1, '#commonsensewins': 1, '#Covidiots': 1, '#MasksSaveLives': 1, '#masksdonotwork': 1, '#SeniorCitizengoals': 1, '#njlockdown': 1, '#crypto': 1, '#breakout': 1, '#disbelief': 1, '#rally': 1, '#learn': 2, '#study': 2, '#springtime': 1, '#trading': 1, '#goawayvirus': 1, '#MondayMotivation': 1, '#mondaythoughts': 1, '#COVID19:': 1, '#FireTam': 1, '#endthelockdownnow': 2, '#COVID': 8, '#Democrats': 2, '#POTUS': 1, '#MAGA2020': 80, '#WalkAway': 1, '#CoronaHoax.': 4, '#COVIDIOT': 10, '#LockHimUp': 1, '#Coronaphobia': 1, '#SeekTheTruth': 2, '#FakeNews': 9, '#MediaVirus': 1, '#KayleighForPresident2024': 1, '#CoronaHoax,': 2, '#Covidhoax,': 1, '#OPENAMERICANOW': 7, '#BillGates': 2, '#TruthSeeker': 1, '#OBAMAGATE': 1, '#QAnons': 70, '#TheGreatAwakeningWorldwide': 1, '#GreatAwakening': 2, '#spiritualawakening': 1, '#woke': 1, '#ConspiracyTheorists': 1, '#3!!': 1, '#opencalifornianow': 2, '#qamaney': 3, '#coronaHOAX': 2, '#maga2020': 3, '#SundayFunday': 1, '#MothersDay': 5, '#sundayvibes': 1, '#obaMAGAte': 1, '#event201': 3, '#NothingCanStopWhatIsComing': 1, '#CoronaWillEndSoon': 3, '#livefree': 1, '#mothersday2020': 2, '#NWO': 5, '#ChinaLiedAndPeopleDied': 1, '#covidsafe': 1, '#TrumpsJealousOfObama': 1, '#TrumpGate': 1, '#TrumpGenocide': 1, '#TrumpPressConf': 1, '#Trump2020Landslide': 68, '#TrumpOwnsEveryDeath': 2, '#CoronaCapital': 1, '#GoodJob': 1, '#America!': 1, '#Accused': 1, '#ChildRape': 1, '#Inmates': 1, '#Massachusetts': 2, '#jogging': 1, '#playing': 1, '#Golf.': 1, '#fakecrisis': 1, '#CoronaVirusHOAX': 9, '#WHO': 4, '#Australia!': 1, '#BillGatesIsEvil.': 1, '#endthelockdownnow!': 1, '#CoronavirusLockdown': 2, '#LiberalismIsAMentalDisorder': 4, '#HappyMothersDay': 4, '#SocialDistanacing': 1, '#quarantine': 1, '#DarwinAwards': 1, '#TrumpIsJealousOfObama': 1, '#silentcry': 1, '#help': 1, '#stop': 1, '#breakdown': 1, '#country.': 1, '#job': 1, '#excessive': 1, '#freetime.': 1, '#StayHome': 3, '#fake': 1, '#hr666': 1, '#traceact': 1, '#billgates': 2, '#id2020': 1, '#billgatesisevil': 1, '#bannedvideo': 1, '#coronaconspiracy': 1, '#coronavirusconspiracy': 1, '#tariqnasheed': 1, '#youngpharoah': 1, '#embarrassing!': 1, '#Australia': 1, '#NaziScum': 1, '#Nazi': 2, '#disturbing': 1, '#motherhood': 1, '#SundayThoughts': 1, '#Gestapo': 1, '#PoliceBrutality': 1, '#cops': 1, '#Moms': 1, '#Covid19Hoax': 1, '#vaccinations': 1, '#vaccinated': 1, \"#Coronavaccination's\": 1, '#PatriotsAwakened': 2, '#Covid19': 3, '#thegreatawakening': 1, '#Planneddemic': 1, '“#CantWeTalkAboutThis?”': 1, '#freespeech': 1, '#censorship': 1, '#hollywood': 1, '#fakenews': 5, '#msm': 2, '#apostasy': 1, '#EnemyOfThePeople': 1, '#WuhanVirus': 3, '#maga': 82, '#civilization': 1, '#europe': 1, '#european': 1, '#islam': 1, '#IslamicRepublicOfBBC': 1, '#auspol': 1, '#hoaxvirus': 3, '#Coronabollocks': 2, '#CoronaLockdown': 5, '#Shutdown': 1, '#toiletpaper': 1, '#Toiletrollchallenge': 1, '#toilet': 1, '#COVID19Pandemic': 1, 'FINANCING...#HappyMothersDay': 1, '#HR6666': 1, '#TRACEAct': 1, '#coronahoax.': 1, '#FactsMatter': 1, '#ObamaKnew': 1, '#ComeyCabal': 1, '\"#Scamdemic': 1, '#CoronaHoax\"': 1, '#wokeaf': 1, '#ConspiracyTheories': 1, '#conspiracy': 2, '#CoronavirusPandemic': 4, '#WalkAwayFromDemocrats': 1, '#VoteRedToSaveAmerica2020': 1, '#theylive': 1, '#timetowakeup': 2, '#5GCoronavirus': 3, '#QAnon': 3, '#q': 1, '#Influenza': 1, '#FalsePositives': 1, '#jadehelm15': 1, 'sick!!#CoronaHoax': 1, '#pandemic': 4, '#WakeUpSheeple': 1, '#flaqo': 1, '#removecuomo': 1, '#kingcuomo': 1, '#communistcuomo': 1, '#openNY': 1, '#PAUSE': 1, '#NoMailInVoting': 1, '#RevolutionNow': 1, '#ElonMuskDay': 1, '#NaziWorld': 1, '#SocialMediaBans': 1, '#5G4G3GSlowlyKills': 1, '#All4Earth': 1, '#WWG1WGAWORLWIDE': 1, '#KillCommunism': 1, '#CovidEqualsControl': 1, '#EndTheShutdown': 1, '#beach': 1, '#coronastupid': 1, '#whitehousecorona': 1, '#testing': 1, '#trumpstupid': 1, '#incredulous': 1, '#coronacation': 1, '#StopTheMadness': 1, '#ReOpenMassachusetts': 1, '#BallotHarvesting': 1, '#QAnon2020': 59, '#TruthHurts': 1, '#LibertyMatters': 1, '#LibertyIsEssential': 1, '#JustStopWatching': 1, 'virus!#OpenTheEconomy': 1, '#Truth': 1, '#Patriots': 1, '#real': 1, '#disappearing.': 1, '#UVLight': 1, '#Disinfectant': 1, '#Hydroxychloroquine': 1, '#POPCORN': 1, '#WWG1WWGA': 1, '#winning': 1, '#CoronavirusOutbreak': 7, '#Allthelies': 1, '#followalongfolks': 1, '#Facts': 1, '#Chinese': 1, '#ashamed': 1, '#plandamic': 1, '......#CoronaHoax': 1, '#pa': 1, '#Pennsylvania': 1, '#covid19hoax': 1, '#COVID19Canada': 1, '#Fresno': 1, '#California': 2, '#TraderJoes': 1, '#Mask': 1, '#MaskNazis': 2, '#Covidscam': 1, '#Agenda2030': 1, '#orwell1984': 1, '#Sheep': 1, '#SanAntonioTX': 1, '#Hospitals': 1, '#filmyourhospitals': 1, '#emptyhospital': 1, '#Nurses': 1, '#Dance': 1, '#MichaelJackson': 1, '#Remix': 1, '#Dancing': 1, '#FilmYourHospital': 1, '#NoVaccineForMe': 1, '#China': 1, '#Station19': 1, '#ProtestLockdown': 3, '#StayHomeChallenge': 1, '#EternalLockdown': 1, '#ConspiracyTheory': 3, '#boycottcostco': 1, '#VEDay': 2, '#the1975': 1, '#MercyEkeTheClout': 1, '#RunWithMaud': 1, '#IRunwithAhmaud': 1, '#kenyatta': 1, '#2getherTheSeriesep12': 1, '#skamfrance': 1, '#winmetawin': 1, '#TrumpDepression': 1, '#AhmadArbery': 1, '#data': 1, '#cdc': 1, '#wearethenewsnow': 1, '#2020Census': 1, '#2020WasFunUntil': 1, '#ChineseVirus': 3, '#WuhanCoronaVirus': 1, '#NancyKerrigan': 1, '#NancyPelosi': 1, '#TonyaHarding': 1, '#ChinaVirus': 1, '#HTGAWM': 1, '#virus': 1, '#IceQueen': 1, '#Iceskating': 1, '#gold': 1, '#MEMES': 1, '#FrickandFrack': 1, '#JustSayin.': 1, '#fakenews,': 1, '#TruthMatters': 4, '#PLANDEMIC': 1, '#PlandemicDocumentary': 2, '#JudyMikovits': 1, '#covidhoax': 3, '#newyorklockdown': 1, '#funny': 1, '#drevil': 1, '#DrFauciDeathMerchant': 1, '#DrFauci': 1, '#lol': 1, '#retweet': 1, '#dailycomedy': 1, '#podcast': 1, '#Coronavirusnyc': 1, '#MandelaEffect': 1, '#Flatearth': 1, '#LestWeForget': 1, '#FridayFeeling': 1, '#VE75': 1, '#VEDay2020': 1, '#BankHolidayWeekend': 1, '#streetparty': 1, '#FarLeft': 1, '#ImpeachmentHoax': 1, '#Mexicans,': 1, '#respect': 1, '#nation.': 1, '#TimeForARally': 1, '#FreedomOfSpeech': 1, '#ISurvived': 1, '#QANON': 1, '#coronafail': 1, '#covidiots': 3, '#commoncold': 1, '#communism': 1, '#digitalcurrency': 1, '#LockThemUp': 1, '#covid-19!': 1, '#coronascam': 2, '#UKFascism': 1, '#LookAtJapan': 1, '#NotAPandemic': 2, '#NewAbnormal': 1, '#Coronavirustruth': 3, '#ItsTimeToWakeUP!': 3, '#BigPharma': 3, '#DeepState': 4, '#Cabal': 3, '#CBSFakeNews': 3, '#totilatariantiptoe': 3, '#GatesVirus': 1, '#WWG1GWA': 1, '#WWG1WGA_WORLDWIDE': 1, '#StableGenius': 1, '#supermoon': 1, '#ThursdayThoughts': 1, '#GreatAwakeningWorldwide': 1, '#ThesePeopleAreEvil': 1, '#ThesePeopleAreSick': 1, '#DoItQ': 1, '#MakeAmericaWorkAgain': 1, '#MSMIsTheEnemyOfThePeople': 3, '#Italy': 1, '#riots': 1, '#Quebec': 3, '#bigbrother2020': 1, '#BigBrother': 1, '#Minitrue': 1, '#MinistryOfTruth': 1, '#Canada': 2, '#francoislegaultlooser': 1, '#reactionary': 1, '#Chicago': 1, '#StunningAndBrave': 1, '#ConstitutionOverCoronavirus': 1, '#DemocratsHateAmerica': 1, '#DemocratsAreDestroyingAmerica': 2, '#PatriotsFight': 2, '#WakeUpPeople': 1, '#controlledopposition.': 1, '#PLANNEDemic': 1, '#Canada?': 1, '#cdnmedia': 2, '#cdnpoli': 2, '#twintowers': 1, '#GovernmentCorruption': 1, '#CDCLies': 1, '#coverup': 2, '#BitChute': 1, '#OutOfShadows': 1, '#BillGatesVirus': 2, '#doctorsinblack': 1, '#ChrisCuomo': 1, '#BrookeBaldwin': 1, '#CoronaVirusNYC': 1, '#NYCLockdown': 1, '#saveeurope': 2, '#AnderewCuomo': 1, '#GavinNewsom': 1, '#NYC': 1, '#FAKENEWS': 1, '#ProjectVeritas': 1, '#unamerican': 1, '#GTFO': 1, '#KAG2020LandslideVictory': 1, '#freedomobsessed': 1, '#LiberalismIsTheRealPandemic': 1, '#liberalshateamerica': 1, '#timesisarag': 1, '#Michigan': 2, '#somethingisrottenindenmark': 1, '#somethingsmellsfishy': 1, '#COVID19,': 1, '#Vaccines,': 1, '#EndLockDown': 1, '#FireFauciNow': 1, '#Biden2020': 2, '#libtards': 1, '#Plandemicmovie': 1, '#KAG2020TRUMPVICTORY': 1, '#PIZZAGATEISREAL': 1, '#LiberalsHateAmerica': 1, '#coronaespaña': 1, '#coronaspain': 1, '#coronachemtrails': 1, 'month.#5DeMayo': 1, '#TacoTuesday': 1, '#1may': 1, '#420allmonth': 1, '#CoronaChaos': 1, '#wakeup': 1, '#KüblerRoss': 1, '#AreYouForReal': 1, '#WearAMask': 1, '#StayAtHome': 1, '#DrMikovits': 1, '#truth,': 1, '#BeBrave': 1, '#speaktruth': 1, '#freethinker': 1, '#lies': 1, '#🚫Masks': 1, '#EnoughIsEnough': 1, '#Coronagate': 1, '#gates': 1, '#Expose': 1, '#CBSNEWS': 1, '#TheMediaLies': 1, '#SCAMdemic': 1, '#fearmongering': 2, '#BingLiu': 1, '#mkultra': 1, '#DemocratsLoveSlavery': 1, '#TEDROS': 1, '#BIRX': 1, '#Redfield': 1, '#NIH': 1, '#WeThePeople': 1, '#LameStreamMedia': 2, '#FakeNewsMedia': 1, '#cnn': 3, '#ReopenCalifornia': 1, '#protests': 1, '#LiveFreeOrDie': 1, '#HuntingtonBeach': 1, '#ventura': 1, '#Sacramento': 1, '#LosAngeles': 1, '#Mazesandmonsters': 1, '#tomhanks': 1, '#TomHanksPedo': 1, '#illuminati': 1, \"#symbolism..here's\": 1, '#michiganlockdown': 1, '#coronavirusparty': 1, '#fireFauci': 1, '#lockdownextension': 1, '#standupforyourself': 1, '#hospitals': 1, '#FakeNewsCNN': 1, 'something!#CoronaHoax': 1, '#TrumpPressBriefing': 1, '#TrumpIsALaughingStock': 2, '#JeffZucker': 1, '#TheApprentice': 1, '#FireInTheTheatre': 1, '#KillerHornets': 1, '#TrumpLiesAmericansDie': 1, '#VetsAgainstTrump': 1, '#VetsResistSquadron': 1, '#CDC.': 1, '#Kag': 1, '#Brilliant': 1, '#MasksDoNotWork': 1, '#FireFaucci': 1, '#day40oflockdown': 1, '#complianceisconsent': 1, '#covid19truth': 1, '#Lockdown2020': 1, '#ReopenTexas': 1, '#propaganda': 1, '#FauxNews': 1, '#me': 1, '#doctors': 1, '#medicine': 1, '#lockdown15': 1, '#covid15': 1, '#fox': 1, '#protest': 1, '#SocialDistancing': 1, '#FlattenTheCurve': 1, '#BeatCOVID19': 1, '#COVID2019': 2, '#americans': 1, '#VentureCapital': 1, '#AsimBajwa': 1, '#Fauci)': 1, 'WHAT⁉️⁉️⁉️#Mask': 1, '#CoronaVirtueSignaling': 1, '#MaskNazi': 1, '#Quarantine': 1, '#SecondWaveOfLies': 1, '#liberty': 1, '#SheepNoMore': 1, '#FrontLineHeroes': 1, '#2A': 1, '#LeosJustFoundOut': 1, '#policetyranny': 1, '#KawasakiDisease': 1, '#SARSCoV2': 3, '#NYCoronavirus': 1, '#Wuhan': 2, '#COVID__19': 2, '#Whitehouse': 1, '#LawEnforcement': 1, '#AIDS': 1, '#AnthonyFauci': 1, '#2016': 1, '#CorruptDemocrats.': 1, 'pro-#LOCKDOWN2020': 1, '#AntiLockdown': 1, '#CoronaDeniers?': 1, '#pathetic': 1, '#KAG2020': 2, '#UnitedWeStand': 1, '#Warzone': 1, '#NursingHomes': 2, '#NewYork?': 2, '#NewYorkCity': 2, '#NewYorkTough': 2, '#NewYorkForever': 2, '#qanon': 1, '#TrudeauMustGo': 1, '#ChinaVrus': 1, '#AmericanFirst': 1, '#FaithOverFear': 1, '#fuckery': 1, '#TrumpIsAnIdiot': 1, '#TuesdayThoughts': 1, '#miami': 1}\n"
     ]
    }
   ],
   "source": [
    "finder = HashtagFinder(\"#CoronaHoax\")\n",
    "finder.collect_tweets()\n",
    "tags = finder.get_hashtag()\n",
    "print(tags)"
   ]
  },
  {
   "cell_type": "code",
   "execution_count": null,
   "metadata": {},
   "outputs": [],
   "source": []
  }
 ],
 "metadata": {
  "kernelspec": {
   "display_name": "Python 3",
   "language": "python",
   "name": "python3"
  },
  "language_info": {
   "codemirror_mode": {
    "name": "ipython",
    "version": 3
   },
   "file_extension": ".py",
   "mimetype": "text/x-python",
   "name": "python",
   "nbconvert_exporter": "python",
   "pygments_lexer": "ipython3",
   "version": "3.7.6"
  }
 },
 "nbformat": 4,
 "nbformat_minor": 4
}
